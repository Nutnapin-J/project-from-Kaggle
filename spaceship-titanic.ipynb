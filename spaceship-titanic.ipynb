{
 "cells": [
  {
   "cell_type": "code",
   "execution_count": 1,
   "id": "c9edcdb4",
   "metadata": {
    "_cell_guid": "b1076dfc-b9ad-4769-8c92-a6c4dae69d19",
    "_uuid": "8f2839f25d086af736a60e9eeb907d3b93b6e0e5",
    "execution": {
     "iopub.execute_input": "2022-07-10T17:30:47.909216Z",
     "iopub.status.busy": "2022-07-10T17:30:47.908471Z",
     "iopub.status.idle": "2022-07-10T17:30:48.952897Z",
     "shell.execute_reply": "2022-07-10T17:30:48.951728Z"
    },
    "papermill": {
     "duration": 1.064216,
     "end_time": "2022-07-10T17:30:48.958576",
     "exception": false,
     "start_time": "2022-07-10T17:30:47.894360",
     "status": "completed"
    },
    "tags": []
   },
   "outputs": [
    {
     "name": "stdout",
     "output_type": "stream",
     "text": [
      "/kaggle/input/spaceship-titanic/sample_submission.csv\n",
      "/kaggle/input/spaceship-titanic/train.csv\n",
      "/kaggle/input/spaceship-titanic/test.csv\n"
     ]
    }
   ],
   "source": [
    "# This Python 3 environment comes with many helpful analytics libraries installed\n",
    "# It is defined by the kaggle/python Docker image: https://github.com/kaggle/docker-python\n",
    "# For example, here's several helpful packages to load\n",
    "\n",
    "import numpy as np # linear algebra\n",
    "import pandas as pd # data processing, CSV file I/O (e.g. pd.read_csv)\n",
    "from sklearn import preprocessing\n",
    "\n",
    "# Input data files are available in the read-only \"../input/\" directory\n",
    "# For example, running this (by clicking run or pressing Shift+Enter) will list all files under the input directory\n",
    "\n",
    "import os\n",
    "for dirname, _, filenames in os.walk('/kaggle/input'):\n",
    "    for filename in filenames:\n",
    "        print(os.path.join(dirname, filename))\n",
    "\n",
    "# You can write up to 20GB to the current directory (/kaggle/working/) that gets preserved as output when you create a version using \"Save & Run All\" \n",
    "# You can also write temporary files to /kaggle/temp/, but they won't be saved outside of the current session"
   ]
  },
  {
   "cell_type": "code",
   "execution_count": 2,
   "id": "e9b4a521",
   "metadata": {
    "execution": {
     "iopub.execute_input": "2022-07-10T17:30:48.982673Z",
     "iopub.status.busy": "2022-07-10T17:30:48.982299Z",
     "iopub.status.idle": "2022-07-10T17:30:49.079409Z",
     "shell.execute_reply": "2022-07-10T17:30:49.078079Z"
    },
    "papermill": {
     "duration": 0.112076,
     "end_time": "2022-07-10T17:30:49.082046",
     "exception": false,
     "start_time": "2022-07-10T17:30:48.969970",
     "status": "completed"
    },
    "tags": []
   },
   "outputs": [
    {
     "data": {
      "text/html": [
       "<div>\n",
       "<style scoped>\n",
       "    .dataframe tbody tr th:only-of-type {\n",
       "        vertical-align: middle;\n",
       "    }\n",
       "\n",
       "    .dataframe tbody tr th {\n",
       "        vertical-align: top;\n",
       "    }\n",
       "\n",
       "    .dataframe thead th {\n",
       "        text-align: right;\n",
       "    }\n",
       "</style>\n",
       "<table border=\"1\" class=\"dataframe\">\n",
       "  <thead>\n",
       "    <tr style=\"text-align: right;\">\n",
       "      <th></th>\n",
       "      <th>PassengerId</th>\n",
       "      <th>HomePlanet</th>\n",
       "      <th>CryoSleep</th>\n",
       "      <th>Cabin</th>\n",
       "      <th>Destination</th>\n",
       "      <th>Age</th>\n",
       "      <th>VIP</th>\n",
       "      <th>RoomService</th>\n",
       "      <th>FoodCourt</th>\n",
       "      <th>ShoppingMall</th>\n",
       "      <th>Spa</th>\n",
       "      <th>VRDeck</th>\n",
       "      <th>Name</th>\n",
       "      <th>Transported</th>\n",
       "    </tr>\n",
       "  </thead>\n",
       "  <tbody>\n",
       "    <tr>\n",
       "      <th>0</th>\n",
       "      <td>0001_01</td>\n",
       "      <td>Europa</td>\n",
       "      <td>False</td>\n",
       "      <td>B/0/P</td>\n",
       "      <td>TRAPPIST-1e</td>\n",
       "      <td>39.0</td>\n",
       "      <td>False</td>\n",
       "      <td>0.0</td>\n",
       "      <td>0.0</td>\n",
       "      <td>0.0</td>\n",
       "      <td>0.0</td>\n",
       "      <td>0.0</td>\n",
       "      <td>Maham Ofracculy</td>\n",
       "      <td>False</td>\n",
       "    </tr>\n",
       "    <tr>\n",
       "      <th>1</th>\n",
       "      <td>0002_01</td>\n",
       "      <td>Earth</td>\n",
       "      <td>False</td>\n",
       "      <td>F/0/S</td>\n",
       "      <td>TRAPPIST-1e</td>\n",
       "      <td>24.0</td>\n",
       "      <td>False</td>\n",
       "      <td>109.0</td>\n",
       "      <td>9.0</td>\n",
       "      <td>25.0</td>\n",
       "      <td>549.0</td>\n",
       "      <td>44.0</td>\n",
       "      <td>Juanna Vines</td>\n",
       "      <td>True</td>\n",
       "    </tr>\n",
       "    <tr>\n",
       "      <th>2</th>\n",
       "      <td>0003_01</td>\n",
       "      <td>Europa</td>\n",
       "      <td>False</td>\n",
       "      <td>A/0/S</td>\n",
       "      <td>TRAPPIST-1e</td>\n",
       "      <td>58.0</td>\n",
       "      <td>True</td>\n",
       "      <td>43.0</td>\n",
       "      <td>3576.0</td>\n",
       "      <td>0.0</td>\n",
       "      <td>6715.0</td>\n",
       "      <td>49.0</td>\n",
       "      <td>Altark Susent</td>\n",
       "      <td>False</td>\n",
       "    </tr>\n",
       "    <tr>\n",
       "      <th>3</th>\n",
       "      <td>0003_02</td>\n",
       "      <td>Europa</td>\n",
       "      <td>False</td>\n",
       "      <td>A/0/S</td>\n",
       "      <td>TRAPPIST-1e</td>\n",
       "      <td>33.0</td>\n",
       "      <td>False</td>\n",
       "      <td>0.0</td>\n",
       "      <td>1283.0</td>\n",
       "      <td>371.0</td>\n",
       "      <td>3329.0</td>\n",
       "      <td>193.0</td>\n",
       "      <td>Solam Susent</td>\n",
       "      <td>False</td>\n",
       "    </tr>\n",
       "    <tr>\n",
       "      <th>4</th>\n",
       "      <td>0004_01</td>\n",
       "      <td>Earth</td>\n",
       "      <td>False</td>\n",
       "      <td>F/1/S</td>\n",
       "      <td>TRAPPIST-1e</td>\n",
       "      <td>16.0</td>\n",
       "      <td>False</td>\n",
       "      <td>303.0</td>\n",
       "      <td>70.0</td>\n",
       "      <td>151.0</td>\n",
       "      <td>565.0</td>\n",
       "      <td>2.0</td>\n",
       "      <td>Willy Santantines</td>\n",
       "      <td>True</td>\n",
       "    </tr>\n",
       "    <tr>\n",
       "      <th>...</th>\n",
       "      <td>...</td>\n",
       "      <td>...</td>\n",
       "      <td>...</td>\n",
       "      <td>...</td>\n",
       "      <td>...</td>\n",
       "      <td>...</td>\n",
       "      <td>...</td>\n",
       "      <td>...</td>\n",
       "      <td>...</td>\n",
       "      <td>...</td>\n",
       "      <td>...</td>\n",
       "      <td>...</td>\n",
       "      <td>...</td>\n",
       "      <td>...</td>\n",
       "    </tr>\n",
       "    <tr>\n",
       "      <th>8688</th>\n",
       "      <td>9276_01</td>\n",
       "      <td>Europa</td>\n",
       "      <td>False</td>\n",
       "      <td>A/98/P</td>\n",
       "      <td>55 Cancri e</td>\n",
       "      <td>41.0</td>\n",
       "      <td>True</td>\n",
       "      <td>0.0</td>\n",
       "      <td>6819.0</td>\n",
       "      <td>0.0</td>\n",
       "      <td>1643.0</td>\n",
       "      <td>74.0</td>\n",
       "      <td>Gravior Noxnuther</td>\n",
       "      <td>False</td>\n",
       "    </tr>\n",
       "    <tr>\n",
       "      <th>8689</th>\n",
       "      <td>9278_01</td>\n",
       "      <td>Earth</td>\n",
       "      <td>True</td>\n",
       "      <td>G/1499/S</td>\n",
       "      <td>PSO J318.5-22</td>\n",
       "      <td>18.0</td>\n",
       "      <td>False</td>\n",
       "      <td>0.0</td>\n",
       "      <td>0.0</td>\n",
       "      <td>0.0</td>\n",
       "      <td>0.0</td>\n",
       "      <td>0.0</td>\n",
       "      <td>Kurta Mondalley</td>\n",
       "      <td>False</td>\n",
       "    </tr>\n",
       "    <tr>\n",
       "      <th>8690</th>\n",
       "      <td>9279_01</td>\n",
       "      <td>Earth</td>\n",
       "      <td>False</td>\n",
       "      <td>G/1500/S</td>\n",
       "      <td>TRAPPIST-1e</td>\n",
       "      <td>26.0</td>\n",
       "      <td>False</td>\n",
       "      <td>0.0</td>\n",
       "      <td>0.0</td>\n",
       "      <td>1872.0</td>\n",
       "      <td>1.0</td>\n",
       "      <td>0.0</td>\n",
       "      <td>Fayey Connon</td>\n",
       "      <td>True</td>\n",
       "    </tr>\n",
       "    <tr>\n",
       "      <th>8691</th>\n",
       "      <td>9280_01</td>\n",
       "      <td>Europa</td>\n",
       "      <td>False</td>\n",
       "      <td>E/608/S</td>\n",
       "      <td>55 Cancri e</td>\n",
       "      <td>32.0</td>\n",
       "      <td>False</td>\n",
       "      <td>0.0</td>\n",
       "      <td>1049.0</td>\n",
       "      <td>0.0</td>\n",
       "      <td>353.0</td>\n",
       "      <td>3235.0</td>\n",
       "      <td>Celeon Hontichre</td>\n",
       "      <td>False</td>\n",
       "    </tr>\n",
       "    <tr>\n",
       "      <th>8692</th>\n",
       "      <td>9280_02</td>\n",
       "      <td>Europa</td>\n",
       "      <td>False</td>\n",
       "      <td>E/608/S</td>\n",
       "      <td>TRAPPIST-1e</td>\n",
       "      <td>44.0</td>\n",
       "      <td>False</td>\n",
       "      <td>126.0</td>\n",
       "      <td>4688.0</td>\n",
       "      <td>0.0</td>\n",
       "      <td>0.0</td>\n",
       "      <td>12.0</td>\n",
       "      <td>Propsh Hontichre</td>\n",
       "      <td>True</td>\n",
       "    </tr>\n",
       "  </tbody>\n",
       "</table>\n",
       "<p>8693 rows × 14 columns</p>\n",
       "</div>"
      ],
      "text/plain": [
       "     PassengerId HomePlanet CryoSleep     Cabin    Destination   Age    VIP  \\\n",
       "0        0001_01     Europa     False     B/0/P    TRAPPIST-1e  39.0  False   \n",
       "1        0002_01      Earth     False     F/0/S    TRAPPIST-1e  24.0  False   \n",
       "2        0003_01     Europa     False     A/0/S    TRAPPIST-1e  58.0   True   \n",
       "3        0003_02     Europa     False     A/0/S    TRAPPIST-1e  33.0  False   \n",
       "4        0004_01      Earth     False     F/1/S    TRAPPIST-1e  16.0  False   \n",
       "...          ...        ...       ...       ...            ...   ...    ...   \n",
       "8688     9276_01     Europa     False    A/98/P    55 Cancri e  41.0   True   \n",
       "8689     9278_01      Earth      True  G/1499/S  PSO J318.5-22  18.0  False   \n",
       "8690     9279_01      Earth     False  G/1500/S    TRAPPIST-1e  26.0  False   \n",
       "8691     9280_01     Europa     False   E/608/S    55 Cancri e  32.0  False   \n",
       "8692     9280_02     Europa     False   E/608/S    TRAPPIST-1e  44.0  False   \n",
       "\n",
       "      RoomService  FoodCourt  ShoppingMall     Spa  VRDeck               Name  \\\n",
       "0             0.0        0.0           0.0     0.0     0.0    Maham Ofracculy   \n",
       "1           109.0        9.0          25.0   549.0    44.0       Juanna Vines   \n",
       "2            43.0     3576.0           0.0  6715.0    49.0      Altark Susent   \n",
       "3             0.0     1283.0         371.0  3329.0   193.0       Solam Susent   \n",
       "4           303.0       70.0         151.0   565.0     2.0  Willy Santantines   \n",
       "...           ...        ...           ...     ...     ...                ...   \n",
       "8688          0.0     6819.0           0.0  1643.0    74.0  Gravior Noxnuther   \n",
       "8689          0.0        0.0           0.0     0.0     0.0    Kurta Mondalley   \n",
       "8690          0.0        0.0        1872.0     1.0     0.0       Fayey Connon   \n",
       "8691          0.0     1049.0           0.0   353.0  3235.0   Celeon Hontichre   \n",
       "8692        126.0     4688.0           0.0     0.0    12.0   Propsh Hontichre   \n",
       "\n",
       "      Transported  \n",
       "0           False  \n",
       "1            True  \n",
       "2           False  \n",
       "3           False  \n",
       "4            True  \n",
       "...           ...  \n",
       "8688        False  \n",
       "8689        False  \n",
       "8690         True  \n",
       "8691        False  \n",
       "8692         True  \n",
       "\n",
       "[8693 rows x 14 columns]"
      ]
     },
     "execution_count": 2,
     "metadata": {},
     "output_type": "execute_result"
    }
   ],
   "source": [
    "titanic_path = '../input/spaceship-titanic/train.csv'\n",
    "titanic = pd.read_csv(titanic_path)\n",
    "titanic"
   ]
  },
  {
   "cell_type": "code",
   "execution_count": 3,
   "id": "b778f681",
   "metadata": {
    "execution": {
     "iopub.execute_input": "2022-07-10T17:30:49.107106Z",
     "iopub.status.busy": "2022-07-10T17:30:49.106703Z",
     "iopub.status.idle": "2022-07-10T17:30:49.149945Z",
     "shell.execute_reply": "2022-07-10T17:30:49.149127Z"
    },
    "papermill": {
     "duration": 0.058736,
     "end_time": "2022-07-10T17:30:49.152372",
     "exception": false,
     "start_time": "2022-07-10T17:30:49.093636",
     "status": "completed"
    },
    "tags": []
   },
   "outputs": [
    {
     "data": {
      "text/html": [
       "<div>\n",
       "<style scoped>\n",
       "    .dataframe tbody tr th:only-of-type {\n",
       "        vertical-align: middle;\n",
       "    }\n",
       "\n",
       "    .dataframe tbody tr th {\n",
       "        vertical-align: top;\n",
       "    }\n",
       "\n",
       "    .dataframe thead th {\n",
       "        text-align: right;\n",
       "    }\n",
       "</style>\n",
       "<table border=\"1\" class=\"dataframe\">\n",
       "  <thead>\n",
       "    <tr style=\"text-align: right;\">\n",
       "      <th></th>\n",
       "      <th>Age</th>\n",
       "      <th>RoomService</th>\n",
       "      <th>FoodCourt</th>\n",
       "      <th>ShoppingMall</th>\n",
       "      <th>Spa</th>\n",
       "      <th>VRDeck</th>\n",
       "    </tr>\n",
       "  </thead>\n",
       "  <tbody>\n",
       "    <tr>\n",
       "      <th>count</th>\n",
       "      <td>8514.000000</td>\n",
       "      <td>8512.000000</td>\n",
       "      <td>8510.000000</td>\n",
       "      <td>8485.000000</td>\n",
       "      <td>8510.000000</td>\n",
       "      <td>8505.000000</td>\n",
       "    </tr>\n",
       "    <tr>\n",
       "      <th>mean</th>\n",
       "      <td>28.827930</td>\n",
       "      <td>224.687617</td>\n",
       "      <td>458.077203</td>\n",
       "      <td>173.729169</td>\n",
       "      <td>311.138778</td>\n",
       "      <td>304.854791</td>\n",
       "    </tr>\n",
       "    <tr>\n",
       "      <th>std</th>\n",
       "      <td>14.489021</td>\n",
       "      <td>666.717663</td>\n",
       "      <td>1611.489240</td>\n",
       "      <td>604.696458</td>\n",
       "      <td>1136.705535</td>\n",
       "      <td>1145.717189</td>\n",
       "    </tr>\n",
       "    <tr>\n",
       "      <th>min</th>\n",
       "      <td>0.000000</td>\n",
       "      <td>0.000000</td>\n",
       "      <td>0.000000</td>\n",
       "      <td>0.000000</td>\n",
       "      <td>0.000000</td>\n",
       "      <td>0.000000</td>\n",
       "    </tr>\n",
       "    <tr>\n",
       "      <th>25%</th>\n",
       "      <td>19.000000</td>\n",
       "      <td>0.000000</td>\n",
       "      <td>0.000000</td>\n",
       "      <td>0.000000</td>\n",
       "      <td>0.000000</td>\n",
       "      <td>0.000000</td>\n",
       "    </tr>\n",
       "    <tr>\n",
       "      <th>50%</th>\n",
       "      <td>27.000000</td>\n",
       "      <td>0.000000</td>\n",
       "      <td>0.000000</td>\n",
       "      <td>0.000000</td>\n",
       "      <td>0.000000</td>\n",
       "      <td>0.000000</td>\n",
       "    </tr>\n",
       "    <tr>\n",
       "      <th>75%</th>\n",
       "      <td>38.000000</td>\n",
       "      <td>47.000000</td>\n",
       "      <td>76.000000</td>\n",
       "      <td>27.000000</td>\n",
       "      <td>59.000000</td>\n",
       "      <td>46.000000</td>\n",
       "    </tr>\n",
       "    <tr>\n",
       "      <th>max</th>\n",
       "      <td>79.000000</td>\n",
       "      <td>14327.000000</td>\n",
       "      <td>29813.000000</td>\n",
       "      <td>23492.000000</td>\n",
       "      <td>22408.000000</td>\n",
       "      <td>24133.000000</td>\n",
       "    </tr>\n",
       "  </tbody>\n",
       "</table>\n",
       "</div>"
      ],
      "text/plain": [
       "               Age   RoomService     FoodCourt  ShoppingMall           Spa  \\\n",
       "count  8514.000000   8512.000000   8510.000000   8485.000000   8510.000000   \n",
       "mean     28.827930    224.687617    458.077203    173.729169    311.138778   \n",
       "std      14.489021    666.717663   1611.489240    604.696458   1136.705535   \n",
       "min       0.000000      0.000000      0.000000      0.000000      0.000000   \n",
       "25%      19.000000      0.000000      0.000000      0.000000      0.000000   \n",
       "50%      27.000000      0.000000      0.000000      0.000000      0.000000   \n",
       "75%      38.000000     47.000000     76.000000     27.000000     59.000000   \n",
       "max      79.000000  14327.000000  29813.000000  23492.000000  22408.000000   \n",
       "\n",
       "             VRDeck  \n",
       "count   8505.000000  \n",
       "mean     304.854791  \n",
       "std     1145.717189  \n",
       "min        0.000000  \n",
       "25%        0.000000  \n",
       "50%        0.000000  \n",
       "75%       46.000000  \n",
       "max    24133.000000  "
      ]
     },
     "execution_count": 3,
     "metadata": {},
     "output_type": "execute_result"
    }
   ],
   "source": [
    "titanic.describe()"
   ]
  },
  {
   "cell_type": "code",
   "execution_count": 4,
   "id": "00148f6d",
   "metadata": {
    "execution": {
     "iopub.execute_input": "2022-07-10T17:30:49.179344Z",
     "iopub.status.busy": "2022-07-10T17:30:49.178964Z",
     "iopub.status.idle": "2022-07-10T17:30:49.185752Z",
     "shell.execute_reply": "2022-07-10T17:30:49.184590Z"
    },
    "papermill": {
     "duration": 0.023673,
     "end_time": "2022-07-10T17:30:49.188195",
     "exception": false,
     "start_time": "2022-07-10T17:30:49.164522",
     "status": "completed"
    },
    "tags": []
   },
   "outputs": [
    {
     "data": {
      "text/plain": [
       "(8693, 14)"
      ]
     },
     "execution_count": 4,
     "metadata": {},
     "output_type": "execute_result"
    }
   ],
   "source": [
    "titanic.shape"
   ]
  },
  {
   "cell_type": "code",
   "execution_count": 5,
   "id": "5ec4b52f",
   "metadata": {
    "execution": {
     "iopub.execute_input": "2022-07-10T17:30:49.214481Z",
     "iopub.status.busy": "2022-07-10T17:30:49.213913Z",
     "iopub.status.idle": "2022-07-10T17:30:49.231375Z",
     "shell.execute_reply": "2022-07-10T17:30:49.230298Z"
    },
    "papermill": {
     "duration": 0.0336,
     "end_time": "2022-07-10T17:30:49.233697",
     "exception": false,
     "start_time": "2022-07-10T17:30:49.200097",
     "status": "completed"
    },
    "tags": []
   },
   "outputs": [
    {
     "data": {
      "text/plain": [
       "PassengerId       0\n",
       "HomePlanet      201\n",
       "CryoSleep       217\n",
       "Cabin           199\n",
       "Destination     182\n",
       "Age             179\n",
       "VIP             203\n",
       "RoomService     181\n",
       "FoodCourt       183\n",
       "ShoppingMall    208\n",
       "Spa             183\n",
       "VRDeck          188\n",
       "Name            200\n",
       "Transported       0\n",
       "dtype: int64"
      ]
     },
     "execution_count": 5,
     "metadata": {},
     "output_type": "execute_result"
    }
   ],
   "source": [
    "titanic.isnull().sum()"
   ]
  },
  {
   "cell_type": "code",
   "execution_count": 6,
   "id": "99bd6058",
   "metadata": {
    "execution": {
     "iopub.execute_input": "2022-07-10T17:30:49.259365Z",
     "iopub.status.busy": "2022-07-10T17:30:49.258950Z",
     "iopub.status.idle": "2022-07-10T17:30:49.278982Z",
     "shell.execute_reply": "2022-07-10T17:30:49.277883Z"
    },
    "papermill": {
     "duration": 0.0356,
     "end_time": "2022-07-10T17:30:49.281350",
     "exception": false,
     "start_time": "2022-07-10T17:30:49.245750",
     "status": "completed"
    },
    "tags": []
   },
   "outputs": [
    {
     "data": {
      "text/plain": [
       "(6606, 14)"
      ]
     },
     "execution_count": 6,
     "metadata": {},
     "output_type": "execute_result"
    }
   ],
   "source": [
    "Titanic_data=titanic.dropna()\n",
    "Titanic_data.shape"
   ]
  },
  {
   "cell_type": "code",
   "execution_count": 7,
   "id": "0807d573",
   "metadata": {
    "execution": {
     "iopub.execute_input": "2022-07-10T17:30:49.307096Z",
     "iopub.status.busy": "2022-07-10T17:30:49.306677Z",
     "iopub.status.idle": "2022-07-10T17:30:49.322861Z",
     "shell.execute_reply": "2022-07-10T17:30:49.321750Z"
    },
    "papermill": {
     "duration": 0.031702,
     "end_time": "2022-07-10T17:30:49.325260",
     "exception": false,
     "start_time": "2022-07-10T17:30:49.293558",
     "status": "completed"
    },
    "tags": []
   },
   "outputs": [
    {
     "data": {
      "text/plain": [
       "PassengerId     0\n",
       "HomePlanet      0\n",
       "CryoSleep       0\n",
       "Cabin           0\n",
       "Destination     0\n",
       "Age             0\n",
       "VIP             0\n",
       "RoomService     0\n",
       "FoodCourt       0\n",
       "ShoppingMall    0\n",
       "Spa             0\n",
       "VRDeck          0\n",
       "Name            0\n",
       "Transported     0\n",
       "dtype: int64"
      ]
     },
     "execution_count": 7,
     "metadata": {},
     "output_type": "execute_result"
    }
   ],
   "source": [
    "Titanic_data.isnull().sum()"
   ]
  },
  {
   "cell_type": "code",
   "execution_count": 8,
   "id": "901c1b4f",
   "metadata": {
    "execution": {
     "iopub.execute_input": "2022-07-10T17:30:49.351455Z",
     "iopub.status.busy": "2022-07-10T17:30:49.351052Z",
     "iopub.status.idle": "2022-07-10T17:30:49.362787Z",
     "shell.execute_reply": "2022-07-10T17:30:49.361766Z"
    },
    "papermill": {
     "duration": 0.028711,
     "end_time": "2022-07-10T17:30:49.366071",
     "exception": false,
     "start_time": "2022-07-10T17:30:49.337360",
     "status": "completed"
    },
    "tags": []
   },
   "outputs": [
    {
     "name": "stderr",
     "output_type": "stream",
     "text": [
      "/opt/conda/lib/python3.7/site-packages/ipykernel_launcher.py:1: SettingWithCopyWarning: \n",
      "A value is trying to be set on a copy of a slice from a DataFrame.\n",
      "Try using .loc[row_indexer,col_indexer] = value instead\n",
      "\n",
      "See the caveats in the documentation: https://pandas.pydata.org/pandas-docs/stable/user_guide/indexing.html#returning-a-view-versus-a-copy\n",
      "  \"\"\"Entry point for launching an IPython kernel.\n",
      "/opt/conda/lib/python3.7/site-packages/ipykernel_launcher.py:2: SettingWithCopyWarning: \n",
      "A value is trying to be set on a copy of a slice from a DataFrame.\n",
      "Try using .loc[row_indexer,col_indexer] = value instead\n",
      "\n",
      "See the caveats in the documentation: https://pandas.pydata.org/pandas-docs/stable/user_guide/indexing.html#returning-a-view-versus-a-copy\n",
      "  \n"
     ]
    },
    {
     "data": {
      "text/plain": [
       "PassengerId      object\n",
       "HomePlanet       object\n",
       "CryoSleep        object\n",
       "Cabin            object\n",
       "Destination      object\n",
       "Age               int64\n",
       "VIP              object\n",
       "RoomService     float64\n",
       "FoodCourt       float64\n",
       "ShoppingMall    float64\n",
       "Spa             float64\n",
       "VRDeck          float64\n",
       "Name             object\n",
       "Transported       int64\n",
       "dtype: object"
      ]
     },
     "execution_count": 8,
     "metadata": {},
     "output_type": "execute_result"
    }
   ],
   "source": [
    "\n",
    "Titanic_data['Age']=Titanic_data['Age'].astype(int)\n",
    "Titanic_data['Transported']=Titanic_data['Transported'].astype(int)\n",
    "Titanic_data.dtypes"
   ]
  },
  {
   "cell_type": "code",
   "execution_count": 9,
   "id": "621117a9",
   "metadata": {
    "execution": {
     "iopub.execute_input": "2022-07-10T17:30:49.392887Z",
     "iopub.status.busy": "2022-07-10T17:30:49.392500Z",
     "iopub.status.idle": "2022-07-10T17:30:49.464608Z",
     "shell.execute_reply": "2022-07-10T17:30:49.463253Z"
    },
    "papermill": {
     "duration": 0.088694,
     "end_time": "2022-07-10T17:30:49.467062",
     "exception": false,
     "start_time": "2022-07-10T17:30:49.378368",
     "status": "completed"
    },
    "tags": []
   },
   "outputs": [
    {
     "name": "stderr",
     "output_type": "stream",
     "text": [
      "/opt/conda/lib/python3.7/site-packages/pandas/core/frame.py:3641: SettingWithCopyWarning: \n",
      "A value is trying to be set on a copy of a slice from a DataFrame.\n",
      "Try using .loc[row_indexer,col_indexer] = value instead\n",
      "\n",
      "See the caveats in the documentation: https://pandas.pydata.org/pandas-docs/stable/user_guide/indexing.html#returning-a-view-versus-a-copy\n",
      "  self[k1] = value[k2]\n",
      "/opt/conda/lib/python3.7/site-packages/ipykernel_launcher.py:3: SettingWithCopyWarning: \n",
      "A value is trying to be set on a copy of a slice from a DataFrame.\n",
      "Try using .loc[row_indexer,col_indexer] = value instead\n",
      "\n",
      "See the caveats in the documentation: https://pandas.pydata.org/pandas-docs/stable/user_guide/indexing.html#returning-a-view-versus-a-copy\n",
      "  This is separate from the ipykernel package so we can avoid doing imports until\n"
     ]
    },
    {
     "data": {
      "text/html": [
       "<div>\n",
       "<style scoped>\n",
       "    .dataframe tbody tr th:only-of-type {\n",
       "        vertical-align: middle;\n",
       "    }\n",
       "\n",
       "    .dataframe tbody tr th {\n",
       "        vertical-align: top;\n",
       "    }\n",
       "\n",
       "    .dataframe thead th {\n",
       "        text-align: right;\n",
       "    }\n",
       "</style>\n",
       "<table border=\"1\" class=\"dataframe\">\n",
       "  <thead>\n",
       "    <tr style=\"text-align: right;\">\n",
       "      <th></th>\n",
       "      <th>PassengerId</th>\n",
       "      <th>HomePlanet</th>\n",
       "      <th>CryoSleep</th>\n",
       "      <th>Cabin</th>\n",
       "      <th>Destination</th>\n",
       "      <th>Age</th>\n",
       "      <th>VIP</th>\n",
       "      <th>RoomService</th>\n",
       "      <th>FoodCourt</th>\n",
       "      <th>ShoppingMall</th>\n",
       "      <th>Spa</th>\n",
       "      <th>VRDeck</th>\n",
       "      <th>Name</th>\n",
       "      <th>Transported</th>\n",
       "      <th>Group</th>\n",
       "      <th>people in Group</th>\n",
       "      <th>Deck</th>\n",
       "      <th>Num</th>\n",
       "      <th>Side</th>\n",
       "      <th>Rich</th>\n",
       "    </tr>\n",
       "  </thead>\n",
       "  <tbody>\n",
       "    <tr>\n",
       "      <th>0</th>\n",
       "      <td>0001_01</td>\n",
       "      <td>Europa</td>\n",
       "      <td>False</td>\n",
       "      <td>B/0/P</td>\n",
       "      <td>TRAPPIST-1e</td>\n",
       "      <td>39</td>\n",
       "      <td>False</td>\n",
       "      <td>0.0</td>\n",
       "      <td>0.0</td>\n",
       "      <td>0.0</td>\n",
       "      <td>0.0</td>\n",
       "      <td>0.0</td>\n",
       "      <td>Maham Ofracculy</td>\n",
       "      <td>0</td>\n",
       "      <td>0001</td>\n",
       "      <td>01</td>\n",
       "      <td>B</td>\n",
       "      <td>0</td>\n",
       "      <td>P</td>\n",
       "      <td>0.0</td>\n",
       "    </tr>\n",
       "    <tr>\n",
       "      <th>1</th>\n",
       "      <td>0002_01</td>\n",
       "      <td>Earth</td>\n",
       "      <td>False</td>\n",
       "      <td>F/0/S</td>\n",
       "      <td>TRAPPIST-1e</td>\n",
       "      <td>24</td>\n",
       "      <td>False</td>\n",
       "      <td>109.0</td>\n",
       "      <td>9.0</td>\n",
       "      <td>25.0</td>\n",
       "      <td>549.0</td>\n",
       "      <td>44.0</td>\n",
       "      <td>Juanna Vines</td>\n",
       "      <td>1</td>\n",
       "      <td>0002</td>\n",
       "      <td>01</td>\n",
       "      <td>F</td>\n",
       "      <td>0</td>\n",
       "      <td>S</td>\n",
       "      <td>736.0</td>\n",
       "    </tr>\n",
       "    <tr>\n",
       "      <th>2</th>\n",
       "      <td>0003_01</td>\n",
       "      <td>Europa</td>\n",
       "      <td>False</td>\n",
       "      <td>A/0/S</td>\n",
       "      <td>TRAPPIST-1e</td>\n",
       "      <td>58</td>\n",
       "      <td>True</td>\n",
       "      <td>43.0</td>\n",
       "      <td>3576.0</td>\n",
       "      <td>0.0</td>\n",
       "      <td>6715.0</td>\n",
       "      <td>49.0</td>\n",
       "      <td>Altark Susent</td>\n",
       "      <td>0</td>\n",
       "      <td>0003</td>\n",
       "      <td>01</td>\n",
       "      <td>A</td>\n",
       "      <td>0</td>\n",
       "      <td>S</td>\n",
       "      <td>10383.0</td>\n",
       "    </tr>\n",
       "    <tr>\n",
       "      <th>3</th>\n",
       "      <td>0003_02</td>\n",
       "      <td>Europa</td>\n",
       "      <td>False</td>\n",
       "      <td>A/0/S</td>\n",
       "      <td>TRAPPIST-1e</td>\n",
       "      <td>33</td>\n",
       "      <td>False</td>\n",
       "      <td>0.0</td>\n",
       "      <td>1283.0</td>\n",
       "      <td>371.0</td>\n",
       "      <td>3329.0</td>\n",
       "      <td>193.0</td>\n",
       "      <td>Solam Susent</td>\n",
       "      <td>0</td>\n",
       "      <td>0003</td>\n",
       "      <td>02</td>\n",
       "      <td>A</td>\n",
       "      <td>0</td>\n",
       "      <td>S</td>\n",
       "      <td>5176.0</td>\n",
       "    </tr>\n",
       "    <tr>\n",
       "      <th>4</th>\n",
       "      <td>0004_01</td>\n",
       "      <td>Earth</td>\n",
       "      <td>False</td>\n",
       "      <td>F/1/S</td>\n",
       "      <td>TRAPPIST-1e</td>\n",
       "      <td>16</td>\n",
       "      <td>False</td>\n",
       "      <td>303.0</td>\n",
       "      <td>70.0</td>\n",
       "      <td>151.0</td>\n",
       "      <td>565.0</td>\n",
       "      <td>2.0</td>\n",
       "      <td>Willy Santantines</td>\n",
       "      <td>1</td>\n",
       "      <td>0004</td>\n",
       "      <td>01</td>\n",
       "      <td>F</td>\n",
       "      <td>1</td>\n",
       "      <td>S</td>\n",
       "      <td>1091.0</td>\n",
       "    </tr>\n",
       "    <tr>\n",
       "      <th>...</th>\n",
       "      <td>...</td>\n",
       "      <td>...</td>\n",
       "      <td>...</td>\n",
       "      <td>...</td>\n",
       "      <td>...</td>\n",
       "      <td>...</td>\n",
       "      <td>...</td>\n",
       "      <td>...</td>\n",
       "      <td>...</td>\n",
       "      <td>...</td>\n",
       "      <td>...</td>\n",
       "      <td>...</td>\n",
       "      <td>...</td>\n",
       "      <td>...</td>\n",
       "      <td>...</td>\n",
       "      <td>...</td>\n",
       "      <td>...</td>\n",
       "      <td>...</td>\n",
       "      <td>...</td>\n",
       "      <td>...</td>\n",
       "    </tr>\n",
       "    <tr>\n",
       "      <th>8688</th>\n",
       "      <td>9276_01</td>\n",
       "      <td>Europa</td>\n",
       "      <td>False</td>\n",
       "      <td>A/98/P</td>\n",
       "      <td>55 Cancri e</td>\n",
       "      <td>41</td>\n",
       "      <td>True</td>\n",
       "      <td>0.0</td>\n",
       "      <td>6819.0</td>\n",
       "      <td>0.0</td>\n",
       "      <td>1643.0</td>\n",
       "      <td>74.0</td>\n",
       "      <td>Gravior Noxnuther</td>\n",
       "      <td>0</td>\n",
       "      <td>9276</td>\n",
       "      <td>01</td>\n",
       "      <td>A</td>\n",
       "      <td>98</td>\n",
       "      <td>P</td>\n",
       "      <td>8536.0</td>\n",
       "    </tr>\n",
       "    <tr>\n",
       "      <th>8689</th>\n",
       "      <td>9278_01</td>\n",
       "      <td>Earth</td>\n",
       "      <td>True</td>\n",
       "      <td>G/1499/S</td>\n",
       "      <td>PSO J318.5-22</td>\n",
       "      <td>18</td>\n",
       "      <td>False</td>\n",
       "      <td>0.0</td>\n",
       "      <td>0.0</td>\n",
       "      <td>0.0</td>\n",
       "      <td>0.0</td>\n",
       "      <td>0.0</td>\n",
       "      <td>Kurta Mondalley</td>\n",
       "      <td>0</td>\n",
       "      <td>9278</td>\n",
       "      <td>01</td>\n",
       "      <td>G</td>\n",
       "      <td>1499</td>\n",
       "      <td>S</td>\n",
       "      <td>0.0</td>\n",
       "    </tr>\n",
       "    <tr>\n",
       "      <th>8690</th>\n",
       "      <td>9279_01</td>\n",
       "      <td>Earth</td>\n",
       "      <td>False</td>\n",
       "      <td>G/1500/S</td>\n",
       "      <td>TRAPPIST-1e</td>\n",
       "      <td>26</td>\n",
       "      <td>False</td>\n",
       "      <td>0.0</td>\n",
       "      <td>0.0</td>\n",
       "      <td>1872.0</td>\n",
       "      <td>1.0</td>\n",
       "      <td>0.0</td>\n",
       "      <td>Fayey Connon</td>\n",
       "      <td>1</td>\n",
       "      <td>9279</td>\n",
       "      <td>01</td>\n",
       "      <td>G</td>\n",
       "      <td>1500</td>\n",
       "      <td>S</td>\n",
       "      <td>1873.0</td>\n",
       "    </tr>\n",
       "    <tr>\n",
       "      <th>8691</th>\n",
       "      <td>9280_01</td>\n",
       "      <td>Europa</td>\n",
       "      <td>False</td>\n",
       "      <td>E/608/S</td>\n",
       "      <td>55 Cancri e</td>\n",
       "      <td>32</td>\n",
       "      <td>False</td>\n",
       "      <td>0.0</td>\n",
       "      <td>1049.0</td>\n",
       "      <td>0.0</td>\n",
       "      <td>353.0</td>\n",
       "      <td>3235.0</td>\n",
       "      <td>Celeon Hontichre</td>\n",
       "      <td>0</td>\n",
       "      <td>9280</td>\n",
       "      <td>01</td>\n",
       "      <td>E</td>\n",
       "      <td>608</td>\n",
       "      <td>S</td>\n",
       "      <td>4637.0</td>\n",
       "    </tr>\n",
       "    <tr>\n",
       "      <th>8692</th>\n",
       "      <td>9280_02</td>\n",
       "      <td>Europa</td>\n",
       "      <td>False</td>\n",
       "      <td>E/608/S</td>\n",
       "      <td>TRAPPIST-1e</td>\n",
       "      <td>44</td>\n",
       "      <td>False</td>\n",
       "      <td>126.0</td>\n",
       "      <td>4688.0</td>\n",
       "      <td>0.0</td>\n",
       "      <td>0.0</td>\n",
       "      <td>12.0</td>\n",
       "      <td>Propsh Hontichre</td>\n",
       "      <td>1</td>\n",
       "      <td>9280</td>\n",
       "      <td>02</td>\n",
       "      <td>E</td>\n",
       "      <td>608</td>\n",
       "      <td>S</td>\n",
       "      <td>4826.0</td>\n",
       "    </tr>\n",
       "  </tbody>\n",
       "</table>\n",
       "<p>6606 rows × 20 columns</p>\n",
       "</div>"
      ],
      "text/plain": [
       "     PassengerId HomePlanet CryoSleep     Cabin    Destination  Age    VIP  \\\n",
       "0        0001_01     Europa     False     B/0/P    TRAPPIST-1e   39  False   \n",
       "1        0002_01      Earth     False     F/0/S    TRAPPIST-1e   24  False   \n",
       "2        0003_01     Europa     False     A/0/S    TRAPPIST-1e   58   True   \n",
       "3        0003_02     Europa     False     A/0/S    TRAPPIST-1e   33  False   \n",
       "4        0004_01      Earth     False     F/1/S    TRAPPIST-1e   16  False   \n",
       "...          ...        ...       ...       ...            ...  ...    ...   \n",
       "8688     9276_01     Europa     False    A/98/P    55 Cancri e   41   True   \n",
       "8689     9278_01      Earth      True  G/1499/S  PSO J318.5-22   18  False   \n",
       "8690     9279_01      Earth     False  G/1500/S    TRAPPIST-1e   26  False   \n",
       "8691     9280_01     Europa     False   E/608/S    55 Cancri e   32  False   \n",
       "8692     9280_02     Europa     False   E/608/S    TRAPPIST-1e   44  False   \n",
       "\n",
       "      RoomService  FoodCourt  ShoppingMall     Spa  VRDeck               Name  \\\n",
       "0             0.0        0.0           0.0     0.0     0.0    Maham Ofracculy   \n",
       "1           109.0        9.0          25.0   549.0    44.0       Juanna Vines   \n",
       "2            43.0     3576.0           0.0  6715.0    49.0      Altark Susent   \n",
       "3             0.0     1283.0         371.0  3329.0   193.0       Solam Susent   \n",
       "4           303.0       70.0         151.0   565.0     2.0  Willy Santantines   \n",
       "...           ...        ...           ...     ...     ...                ...   \n",
       "8688          0.0     6819.0           0.0  1643.0    74.0  Gravior Noxnuther   \n",
       "8689          0.0        0.0           0.0     0.0     0.0    Kurta Mondalley   \n",
       "8690          0.0        0.0        1872.0     1.0     0.0       Fayey Connon   \n",
       "8691          0.0     1049.0           0.0   353.0  3235.0   Celeon Hontichre   \n",
       "8692        126.0     4688.0           0.0     0.0    12.0   Propsh Hontichre   \n",
       "\n",
       "      Transported Group people in Group Deck   Num Side     Rich  \n",
       "0               0  0001              01    B     0    P      0.0  \n",
       "1               1  0002              01    F     0    S    736.0  \n",
       "2               0  0003              01    A     0    S  10383.0  \n",
       "3               0  0003              02    A     0    S   5176.0  \n",
       "4               1  0004              01    F     1    S   1091.0  \n",
       "...           ...   ...             ...  ...   ...  ...      ...  \n",
       "8688            0  9276              01    A    98    P   8536.0  \n",
       "8689            0  9278              01    G  1499    S      0.0  \n",
       "8690            1  9279              01    G  1500    S   1873.0  \n",
       "8691            0  9280              01    E   608    S   4637.0  \n",
       "8692            1  9280              02    E   608    S   4826.0  \n",
       "\n",
       "[6606 rows x 20 columns]"
      ]
     },
     "execution_count": 9,
     "metadata": {},
     "output_type": "execute_result"
    }
   ],
   "source": [
    "Titanic_data[['Group','people in Group']]=Titanic_data['PassengerId'].str.split('_',expand=True)\n",
    "Titanic_data[['Deck','Num','Side']]=(Titanic_data['Cabin'].str.split('/',expand=True))\n",
    "Titanic_data['Rich']= Titanic_data['RoomService']+Titanic_data['FoodCourt']+Titanic_data['ShoppingMall']+Titanic_data['Spa']+Titanic_data['VRDeck']\n",
    "Titanic_data"
   ]
  },
  {
   "cell_type": "code",
   "execution_count": 10,
   "id": "b99fdbc0",
   "metadata": {
    "execution": {
     "iopub.execute_input": "2022-07-10T17:30:49.495889Z",
     "iopub.status.busy": "2022-07-10T17:30:49.495201Z",
     "iopub.status.idle": "2022-07-10T17:30:49.508196Z",
     "shell.execute_reply": "2022-07-10T17:30:49.507093Z"
    },
    "papermill": {
     "duration": 0.030347,
     "end_time": "2022-07-10T17:30:49.510618",
     "exception": false,
     "start_time": "2022-07-10T17:30:49.480271",
     "status": "completed"
    },
    "tags": []
   },
   "outputs": [
    {
     "data": {
      "text/plain": [
       "4256    8\n",
       "9157    7\n",
       "3850    7\n",
       "4498    7\n",
       "4176    7\n",
       "       ..\n",
       "3504    1\n",
       "3506    1\n",
       "3511    1\n",
       "3512    1\n",
       "4634    1\n",
       "Name: Group, Length: 5015, dtype: int64"
      ]
     },
     "execution_count": 10,
     "metadata": {},
     "output_type": "execute_result"
    }
   ],
   "source": [
    "Titanic_data['Group'].value_counts()"
   ]
  },
  {
   "cell_type": "code",
   "execution_count": 11,
   "id": "f0316483",
   "metadata": {
    "execution": {
     "iopub.execute_input": "2022-07-10T17:30:49.539342Z",
     "iopub.status.busy": "2022-07-10T17:30:49.538072Z",
     "iopub.status.idle": "2022-07-10T17:30:49.548470Z",
     "shell.execute_reply": "2022-07-10T17:30:49.547523Z"
    },
    "papermill": {
     "duration": 0.027021,
     "end_time": "2022-07-10T17:30:49.550701",
     "exception": false,
     "start_time": "2022-07-10T17:30:49.523680",
     "status": "completed"
    },
    "tags": []
   },
   "outputs": [
    {
     "data": {
      "text/plain": [
       "01    4734\n",
       "02    1062\n",
       "03     432\n",
       "04     178\n",
       "05      99\n",
       "06      60\n",
       "07      29\n",
       "08      12\n",
       "Name: people in Group, dtype: int64"
      ]
     },
     "execution_count": 11,
     "metadata": {},
     "output_type": "execute_result"
    }
   ],
   "source": [
    "Titanic_data['people in Group'].value_counts()"
   ]
  },
  {
   "cell_type": "code",
   "execution_count": 12,
   "id": "e542064f",
   "metadata": {
    "execution": {
     "iopub.execute_input": "2022-07-10T17:30:49.579328Z",
     "iopub.status.busy": "2022-07-10T17:30:49.578277Z",
     "iopub.status.idle": "2022-07-10T17:30:49.586466Z",
     "shell.execute_reply": "2022-07-10T17:30:49.585578Z"
    },
    "papermill": {
     "duration": 0.024735,
     "end_time": "2022-07-10T17:30:49.588548",
     "exception": false,
     "start_time": "2022-07-10T17:30:49.563813",
     "status": "completed"
    },
    "tags": []
   },
   "outputs": [
    {
     "data": {
      "text/plain": [
       "array(['01', '02', '03', '04', '06', '05', '07', '08'], dtype=object)"
      ]
     },
     "execution_count": 12,
     "metadata": {},
     "output_type": "execute_result"
    }
   ],
   "source": [
    "Titanic_data['people in Group'].unique()"
   ]
  },
  {
   "cell_type": "code",
   "execution_count": 13,
   "id": "cad24ec5",
   "metadata": {
    "execution": {
     "iopub.execute_input": "2022-07-10T17:30:49.617632Z",
     "iopub.status.busy": "2022-07-10T17:30:49.616384Z",
     "iopub.status.idle": "2022-07-10T17:30:49.627339Z",
     "shell.execute_reply": "2022-07-10T17:30:49.626152Z"
    },
    "papermill": {
     "duration": 0.028052,
     "end_time": "2022-07-10T17:30:49.629792",
     "exception": false,
     "start_time": "2022-07-10T17:30:49.601740",
     "status": "completed"
    },
    "tags": []
   },
   "outputs": [
    {
     "data": {
      "text/plain": [
       "F    2152\n",
       "G    1973\n",
       "E     683\n",
       "B     628\n",
       "C     587\n",
       "D     374\n",
       "A     207\n",
       "T       2\n",
       "Name: Deck, dtype: int64"
      ]
     },
     "execution_count": 13,
     "metadata": {},
     "output_type": "execute_result"
    }
   ],
   "source": [
    "Titanic_data['Deck'].value_counts()"
   ]
  },
  {
   "cell_type": "code",
   "execution_count": 14,
   "id": "1b11c57d",
   "metadata": {
    "execution": {
     "iopub.execute_input": "2022-07-10T17:30:49.659256Z",
     "iopub.status.busy": "2022-07-10T17:30:49.658848Z",
     "iopub.status.idle": "2022-07-10T17:30:49.668078Z",
     "shell.execute_reply": "2022-07-10T17:30:49.667197Z"
    },
    "papermill": {
     "duration": 0.026626,
     "end_time": "2022-07-10T17:30:49.670294",
     "exception": false,
     "start_time": "2022-07-10T17:30:49.643668",
     "status": "completed"
    },
    "tags": []
   },
   "outputs": [
    {
     "data": {
      "text/plain": [
       "S    3345\n",
       "P    3261\n",
       "Name: Side, dtype: int64"
      ]
     },
     "execution_count": 14,
     "metadata": {},
     "output_type": "execute_result"
    }
   ],
   "source": [
    "Titanic_data['Side'].value_counts()"
   ]
  },
  {
   "cell_type": "code",
   "execution_count": 15,
   "id": "d022c5a1",
   "metadata": {
    "execution": {
     "iopub.execute_input": "2022-07-10T17:30:49.699682Z",
     "iopub.status.busy": "2022-07-10T17:30:49.698910Z",
     "iopub.status.idle": "2022-07-10T17:30:49.737709Z",
     "shell.execute_reply": "2022-07-10T17:30:49.736595Z"
    },
    "papermill": {
     "duration": 0.056565,
     "end_time": "2022-07-10T17:30:49.740511",
     "exception": false,
     "start_time": "2022-07-10T17:30:49.683946",
     "status": "completed"
    },
    "tags": []
   },
   "outputs": [
    {
     "data": {
      "text/html": [
       "<div>\n",
       "<style scoped>\n",
       "    .dataframe tbody tr th:only-of-type {\n",
       "        vertical-align: middle;\n",
       "    }\n",
       "\n",
       "    .dataframe tbody tr th {\n",
       "        vertical-align: top;\n",
       "    }\n",
       "\n",
       "    .dataframe thead th {\n",
       "        text-align: right;\n",
       "    }\n",
       "</style>\n",
       "<table border=\"1\" class=\"dataframe\">\n",
       "  <thead>\n",
       "    <tr style=\"text-align: right;\">\n",
       "      <th></th>\n",
       "      <th>Age</th>\n",
       "      <th>RoomService</th>\n",
       "      <th>FoodCourt</th>\n",
       "      <th>ShoppingMall</th>\n",
       "      <th>Spa</th>\n",
       "      <th>VRDeck</th>\n",
       "      <th>Transported</th>\n",
       "      <th>Rich</th>\n",
       "    </tr>\n",
       "  </thead>\n",
       "  <tbody>\n",
       "    <tr>\n",
       "      <th>count</th>\n",
       "      <td>6606.000000</td>\n",
       "      <td>6606.000000</td>\n",
       "      <td>6606.000000</td>\n",
       "      <td>6606.000000</td>\n",
       "      <td>6606.000000</td>\n",
       "      <td>6606.000000</td>\n",
       "      <td>6606.000000</td>\n",
       "      <td>6606.000000</td>\n",
       "    </tr>\n",
       "    <tr>\n",
       "      <th>mean</th>\n",
       "      <td>28.894036</td>\n",
       "      <td>222.991674</td>\n",
       "      <td>478.958523</td>\n",
       "      <td>178.356494</td>\n",
       "      <td>313.161520</td>\n",
       "      <td>303.780048</td>\n",
       "      <td>0.503633</td>\n",
       "      <td>1497.248259</td>\n",
       "    </tr>\n",
       "    <tr>\n",
       "      <th>std</th>\n",
       "      <td>14.533429</td>\n",
       "      <td>644.987936</td>\n",
       "      <td>1678.592291</td>\n",
       "      <td>576.328407</td>\n",
       "      <td>1144.016291</td>\n",
       "      <td>1127.142166</td>\n",
       "      <td>0.500025</td>\n",
       "      <td>2860.618493</td>\n",
       "    </tr>\n",
       "    <tr>\n",
       "      <th>min</th>\n",
       "      <td>0.000000</td>\n",
       "      <td>0.000000</td>\n",
       "      <td>0.000000</td>\n",
       "      <td>0.000000</td>\n",
       "      <td>0.000000</td>\n",
       "      <td>0.000000</td>\n",
       "      <td>0.000000</td>\n",
       "      <td>0.000000</td>\n",
       "    </tr>\n",
       "    <tr>\n",
       "      <th>25%</th>\n",
       "      <td>19.000000</td>\n",
       "      <td>0.000000</td>\n",
       "      <td>0.000000</td>\n",
       "      <td>0.000000</td>\n",
       "      <td>0.000000</td>\n",
       "      <td>0.000000</td>\n",
       "      <td>0.000000</td>\n",
       "      <td>0.000000</td>\n",
       "    </tr>\n",
       "    <tr>\n",
       "      <th>50%</th>\n",
       "      <td>27.000000</td>\n",
       "      <td>0.000000</td>\n",
       "      <td>0.000000</td>\n",
       "      <td>0.000000</td>\n",
       "      <td>0.000000</td>\n",
       "      <td>0.000000</td>\n",
       "      <td>1.000000</td>\n",
       "      <td>739.000000</td>\n",
       "    </tr>\n",
       "    <tr>\n",
       "      <th>75%</th>\n",
       "      <td>38.000000</td>\n",
       "      <td>49.000000</td>\n",
       "      <td>82.750000</td>\n",
       "      <td>30.000000</td>\n",
       "      <td>65.000000</td>\n",
       "      <td>52.000000</td>\n",
       "      <td>1.000000</td>\n",
       "      <td>1513.750000</td>\n",
       "    </tr>\n",
       "    <tr>\n",
       "      <th>max</th>\n",
       "      <td>79.000000</td>\n",
       "      <td>9920.000000</td>\n",
       "      <td>29813.000000</td>\n",
       "      <td>12253.000000</td>\n",
       "      <td>22408.000000</td>\n",
       "      <td>20336.000000</td>\n",
       "      <td>1.000000</td>\n",
       "      <td>35987.000000</td>\n",
       "    </tr>\n",
       "  </tbody>\n",
       "</table>\n",
       "</div>"
      ],
      "text/plain": [
       "               Age  RoomService     FoodCourt  ShoppingMall           Spa  \\\n",
       "count  6606.000000  6606.000000   6606.000000   6606.000000   6606.000000   \n",
       "mean     28.894036   222.991674    478.958523    178.356494    313.161520   \n",
       "std      14.533429   644.987936   1678.592291    576.328407   1144.016291   \n",
       "min       0.000000     0.000000      0.000000      0.000000      0.000000   \n",
       "25%      19.000000     0.000000      0.000000      0.000000      0.000000   \n",
       "50%      27.000000     0.000000      0.000000      0.000000      0.000000   \n",
       "75%      38.000000    49.000000     82.750000     30.000000     65.000000   \n",
       "max      79.000000  9920.000000  29813.000000  12253.000000  22408.000000   \n",
       "\n",
       "             VRDeck  Transported          Rich  \n",
       "count   6606.000000  6606.000000   6606.000000  \n",
       "mean     303.780048     0.503633   1497.248259  \n",
       "std     1127.142166     0.500025   2860.618493  \n",
       "min        0.000000     0.000000      0.000000  \n",
       "25%        0.000000     0.000000      0.000000  \n",
       "50%        0.000000     1.000000    739.000000  \n",
       "75%       52.000000     1.000000   1513.750000  \n",
       "max    20336.000000     1.000000  35987.000000  "
      ]
     },
     "execution_count": 15,
     "metadata": {},
     "output_type": "execute_result"
    }
   ],
   "source": [
    "Titanic_data.describe()"
   ]
  },
  {
   "cell_type": "code",
   "execution_count": 16,
   "id": "a7a14011",
   "metadata": {
    "execution": {
     "iopub.execute_input": "2022-07-10T17:30:49.770766Z",
     "iopub.status.busy": "2022-07-10T17:30:49.769965Z",
     "iopub.status.idle": "2022-07-10T17:30:49.783978Z",
     "shell.execute_reply": "2022-07-10T17:30:49.782938Z"
    },
    "papermill": {
     "duration": 0.031753,
     "end_time": "2022-07-10T17:30:49.786325",
     "exception": false,
     "start_time": "2022-07-10T17:30:49.754572",
     "status": "completed"
    },
    "tags": []
   },
   "outputs": [
    {
     "data": {
      "text/plain": [
       "Side  Transported\n",
       "P     0              0.550138\n",
       "      1              0.449862\n",
       "S     1              0.556054\n",
       "      0              0.443946\n",
       "Name: Transported, dtype: float64"
      ]
     },
     "execution_count": 16,
     "metadata": {},
     "output_type": "execute_result"
    }
   ],
   "source": [
    "Titanic_data.groupby(['Side'])['Transported'].value_counts(normalize=True)"
   ]
  },
  {
   "cell_type": "code",
   "execution_count": null,
   "id": "57cefc5b",
   "metadata": {
    "papermill": {
     "duration": 0.013608,
     "end_time": "2022-07-10T17:30:49.813930",
     "exception": false,
     "start_time": "2022-07-10T17:30:49.800322",
     "status": "completed"
    },
    "tags": []
   },
   "outputs": [],
   "source": []
  },
  {
   "cell_type": "code",
   "execution_count": 17,
   "id": "7e9b59d3",
   "metadata": {
    "execution": {
     "iopub.execute_input": "2022-07-10T17:30:49.843847Z",
     "iopub.status.busy": "2022-07-10T17:30:49.843125Z",
     "iopub.status.idle": "2022-07-10T17:30:49.883499Z",
     "shell.execute_reply": "2022-07-10T17:30:49.882256Z"
    },
    "papermill": {
     "duration": 0.058379,
     "end_time": "2022-07-10T17:30:49.886220",
     "exception": false,
     "start_time": "2022-07-10T17:30:49.827841",
     "status": "completed"
    },
    "tags": []
   },
   "outputs": [
    {
     "name": "stderr",
     "output_type": "stream",
     "text": [
      "/opt/conda/lib/python3.7/site-packages/pandas/core/indexing.py:1684: SettingWithCopyWarning: \n",
      "A value is trying to be set on a copy of a slice from a DataFrame.\n",
      "Try using .loc[row_indexer,col_indexer] = value instead\n",
      "\n",
      "See the caveats in the documentation: https://pandas.pydata.org/pandas-docs/stable/user_guide/indexing.html#returning-a-view-versus-a-copy\n",
      "  self.obj[key] = infer_fill_value(value)\n",
      "/opt/conda/lib/python3.7/site-packages/pandas/core/indexing.py:1817: SettingWithCopyWarning: \n",
      "A value is trying to be set on a copy of a slice from a DataFrame.\n",
      "Try using .loc[row_indexer,col_indexer] = value instead\n",
      "\n",
      "See the caveats in the documentation: https://pandas.pydata.org/pandas-docs/stable/user_guide/indexing.html#returning-a-view-versus-a-copy\n",
      "  self._setitem_single_column(loc, value, pi)\n"
     ]
    },
    {
     "data": {
      "text/html": [
       "<div>\n",
       "<style scoped>\n",
       "    .dataframe tbody tr th:only-of-type {\n",
       "        vertical-align: middle;\n",
       "    }\n",
       "\n",
       "    .dataframe tbody tr th {\n",
       "        vertical-align: top;\n",
       "    }\n",
       "\n",
       "    .dataframe thead th {\n",
       "        text-align: right;\n",
       "    }\n",
       "</style>\n",
       "<table border=\"1\" class=\"dataframe\">\n",
       "  <thead>\n",
       "    <tr style=\"text-align: right;\">\n",
       "      <th></th>\n",
       "      <th>PassengerId</th>\n",
       "      <th>HomePlanet</th>\n",
       "      <th>CryoSleep</th>\n",
       "      <th>Cabin</th>\n",
       "      <th>Destination</th>\n",
       "      <th>Age</th>\n",
       "      <th>VIP</th>\n",
       "      <th>RoomService</th>\n",
       "      <th>FoodCourt</th>\n",
       "      <th>ShoppingMall</th>\n",
       "      <th>...</th>\n",
       "      <th>VRDeck</th>\n",
       "      <th>Name</th>\n",
       "      <th>Transported</th>\n",
       "      <th>Group</th>\n",
       "      <th>people in Group</th>\n",
       "      <th>Deck</th>\n",
       "      <th>Num</th>\n",
       "      <th>Side</th>\n",
       "      <th>Rich</th>\n",
       "      <th>age_group</th>\n",
       "    </tr>\n",
       "  </thead>\n",
       "  <tbody>\n",
       "    <tr>\n",
       "      <th>0</th>\n",
       "      <td>0001_01</td>\n",
       "      <td>Europa</td>\n",
       "      <td>False</td>\n",
       "      <td>B/0/P</td>\n",
       "      <td>TRAPPIST-1e</td>\n",
       "      <td>39</td>\n",
       "      <td>False</td>\n",
       "      <td>0.0</td>\n",
       "      <td>0.0</td>\n",
       "      <td>0.0</td>\n",
       "      <td>...</td>\n",
       "      <td>0.0</td>\n",
       "      <td>Maham Ofracculy</td>\n",
       "      <td>0</td>\n",
       "      <td>0001</td>\n",
       "      <td>01</td>\n",
       "      <td>B</td>\n",
       "      <td>0</td>\n",
       "      <td>P</td>\n",
       "      <td>0.0</td>\n",
       "      <td>&gt;38</td>\n",
       "    </tr>\n",
       "    <tr>\n",
       "      <th>1</th>\n",
       "      <td>0002_01</td>\n",
       "      <td>Earth</td>\n",
       "      <td>False</td>\n",
       "      <td>F/0/S</td>\n",
       "      <td>TRAPPIST-1e</td>\n",
       "      <td>24</td>\n",
       "      <td>False</td>\n",
       "      <td>109.0</td>\n",
       "      <td>9.0</td>\n",
       "      <td>25.0</td>\n",
       "      <td>...</td>\n",
       "      <td>44.0</td>\n",
       "      <td>Juanna Vines</td>\n",
       "      <td>1</td>\n",
       "      <td>0002</td>\n",
       "      <td>01</td>\n",
       "      <td>F</td>\n",
       "      <td>0</td>\n",
       "      <td>S</td>\n",
       "      <td>736.0</td>\n",
       "      <td>19-27</td>\n",
       "    </tr>\n",
       "    <tr>\n",
       "      <th>2</th>\n",
       "      <td>0003_01</td>\n",
       "      <td>Europa</td>\n",
       "      <td>False</td>\n",
       "      <td>A/0/S</td>\n",
       "      <td>TRAPPIST-1e</td>\n",
       "      <td>58</td>\n",
       "      <td>True</td>\n",
       "      <td>43.0</td>\n",
       "      <td>3576.0</td>\n",
       "      <td>0.0</td>\n",
       "      <td>...</td>\n",
       "      <td>49.0</td>\n",
       "      <td>Altark Susent</td>\n",
       "      <td>0</td>\n",
       "      <td>0003</td>\n",
       "      <td>01</td>\n",
       "      <td>A</td>\n",
       "      <td>0</td>\n",
       "      <td>S</td>\n",
       "      <td>10383.0</td>\n",
       "      <td>&gt;38</td>\n",
       "    </tr>\n",
       "    <tr>\n",
       "      <th>3</th>\n",
       "      <td>0003_02</td>\n",
       "      <td>Europa</td>\n",
       "      <td>False</td>\n",
       "      <td>A/0/S</td>\n",
       "      <td>TRAPPIST-1e</td>\n",
       "      <td>33</td>\n",
       "      <td>False</td>\n",
       "      <td>0.0</td>\n",
       "      <td>1283.0</td>\n",
       "      <td>371.0</td>\n",
       "      <td>...</td>\n",
       "      <td>193.0</td>\n",
       "      <td>Solam Susent</td>\n",
       "      <td>0</td>\n",
       "      <td>0003</td>\n",
       "      <td>02</td>\n",
       "      <td>A</td>\n",
       "      <td>0</td>\n",
       "      <td>S</td>\n",
       "      <td>5176.0</td>\n",
       "      <td>27-38</td>\n",
       "    </tr>\n",
       "    <tr>\n",
       "      <th>4</th>\n",
       "      <td>0004_01</td>\n",
       "      <td>Earth</td>\n",
       "      <td>False</td>\n",
       "      <td>F/1/S</td>\n",
       "      <td>TRAPPIST-1e</td>\n",
       "      <td>16</td>\n",
       "      <td>False</td>\n",
       "      <td>303.0</td>\n",
       "      <td>70.0</td>\n",
       "      <td>151.0</td>\n",
       "      <td>...</td>\n",
       "      <td>2.0</td>\n",
       "      <td>Willy Santantines</td>\n",
       "      <td>1</td>\n",
       "      <td>0004</td>\n",
       "      <td>01</td>\n",
       "      <td>F</td>\n",
       "      <td>1</td>\n",
       "      <td>S</td>\n",
       "      <td>1091.0</td>\n",
       "      <td>&lt;19</td>\n",
       "    </tr>\n",
       "  </tbody>\n",
       "</table>\n",
       "<p>5 rows × 21 columns</p>\n",
       "</div>"
      ],
      "text/plain": [
       "  PassengerId HomePlanet CryoSleep  Cabin  Destination  Age    VIP  \\\n",
       "0     0001_01     Europa     False  B/0/P  TRAPPIST-1e   39  False   \n",
       "1     0002_01      Earth     False  F/0/S  TRAPPIST-1e   24  False   \n",
       "2     0003_01     Europa     False  A/0/S  TRAPPIST-1e   58   True   \n",
       "3     0003_02     Europa     False  A/0/S  TRAPPIST-1e   33  False   \n",
       "4     0004_01      Earth     False  F/1/S  TRAPPIST-1e   16  False   \n",
       "\n",
       "   RoomService  FoodCourt  ShoppingMall  ...  VRDeck               Name  \\\n",
       "0          0.0        0.0           0.0  ...     0.0    Maham Ofracculy   \n",
       "1        109.0        9.0          25.0  ...    44.0       Juanna Vines   \n",
       "2         43.0     3576.0           0.0  ...    49.0      Altark Susent   \n",
       "3          0.0     1283.0         371.0  ...   193.0       Solam Susent   \n",
       "4        303.0       70.0         151.0  ...     2.0  Willy Santantines   \n",
       "\n",
       "  Transported  Group people in Group Deck Num Side     Rich  age_group  \n",
       "0           0   0001              01    B   0    P      0.0        >38  \n",
       "1           1   0002              01    F   0    S    736.0      19-27  \n",
       "2           0   0003              01    A   0    S  10383.0        >38  \n",
       "3           0   0003              02    A   0    S   5176.0      27-38  \n",
       "4           1   0004              01    F   1    S   1091.0        <19  \n",
       "\n",
       "[5 rows x 21 columns]"
      ]
     },
     "execution_count": 17,
     "metadata": {},
     "output_type": "execute_result"
    }
   ],
   "source": [
    "Titanic_data.loc[(Titanic_data['Age']<19),'age_group']='<19'\n",
    "Titanic_data.loc[(Titanic_data['Age']>=19)&(Titanic_data['Age']<27),'age_group']='19-27'\n",
    "Titanic_data.loc[(Titanic_data['Age']>=27)&(Titanic_data['Age']<38),'age_group']='27-38'\n",
    "Titanic_data.loc[(Titanic_data['Age']>=38),'age_group']='>38'\n",
    "Titanic_data.head()"
   ]
  },
  {
   "cell_type": "code",
   "execution_count": 18,
   "id": "1d6c1422",
   "metadata": {
    "execution": {
     "iopub.execute_input": "2022-07-10T17:30:49.917218Z",
     "iopub.status.busy": "2022-07-10T17:30:49.916484Z",
     "iopub.status.idle": "2022-07-10T17:30:49.925818Z",
     "shell.execute_reply": "2022-07-10T17:30:49.924943Z"
    },
    "papermill": {
     "duration": 0.027443,
     "end_time": "2022-07-10T17:30:49.928023",
     "exception": false,
     "start_time": "2022-07-10T17:30:49.900580",
     "status": "completed"
    },
    "tags": []
   },
   "outputs": [
    {
     "data": {
      "text/plain": [
       "19-27    1773\n",
       "27-38    1701\n",
       ">38      1687\n",
       "<19      1445\n",
       "Name: age_group, dtype: int64"
      ]
     },
     "execution_count": 18,
     "metadata": {},
     "output_type": "execute_result"
    }
   ],
   "source": [
    "Titanic_data['age_group'].value_counts()"
   ]
  },
  {
   "cell_type": "code",
   "execution_count": 19,
   "id": "36216636",
   "metadata": {
    "execution": {
     "iopub.execute_input": "2022-07-10T17:30:49.959231Z",
     "iopub.status.busy": "2022-07-10T17:30:49.958448Z",
     "iopub.status.idle": "2022-07-10T17:30:49.969817Z",
     "shell.execute_reply": "2022-07-10T17:30:49.968832Z"
    },
    "papermill": {
     "duration": 0.029626,
     "end_time": "2022-07-10T17:30:49.972168",
     "exception": false,
     "start_time": "2022-07-10T17:30:49.942542",
     "status": "completed"
    },
    "tags": []
   },
   "outputs": [
    {
     "data": {
      "text/plain": [
       "82      22\n",
       "97      19\n",
       "56      19\n",
       "176     18\n",
       "65      17\n",
       "        ..\n",
       "759      1\n",
       "832      1\n",
       "1554     1\n",
       "663      1\n",
       "878      1\n",
       "Name: Num, Length: 1734, dtype: int64"
      ]
     },
     "execution_count": 19,
     "metadata": {},
     "output_type": "execute_result"
    }
   ],
   "source": [
    "Titanic_data['Num'].value_counts()"
   ]
  },
  {
   "cell_type": "code",
   "execution_count": 20,
   "id": "5a3af7b1",
   "metadata": {
    "execution": {
     "iopub.execute_input": "2022-07-10T17:30:50.003590Z",
     "iopub.status.busy": "2022-07-10T17:30:50.002813Z",
     "iopub.status.idle": "2022-07-10T17:30:50.019607Z",
     "shell.execute_reply": "2022-07-10T17:30:50.018512Z"
    },
    "papermill": {
     "duration": 0.035137,
     "end_time": "2022-07-10T17:30:50.021931",
     "exception": false,
     "start_time": "2022-07-10T17:30:49.986794",
     "status": "completed"
    },
    "tags": []
   },
   "outputs": [
    {
     "data": {
      "text/plain": [
       "Num  Transported\n",
       "0    0              0.583333\n",
       "     1              0.416667\n",
       "1    1              0.750000\n",
       "     0              0.250000\n",
       "10   0              0.500000\n",
       "                      ...   \n",
       "996  1              1.000000\n",
       "997  0              1.000000\n",
       "998  0              0.666667\n",
       "     1              0.333333\n",
       "999  1              1.000000\n",
       "Name: Transported, Length: 2776, dtype: float64"
      ]
     },
     "execution_count": 20,
     "metadata": {},
     "output_type": "execute_result"
    }
   ],
   "source": [
    "Titanic_data.groupby(['Num'])['Transported'].value_counts(normalize=True)"
   ]
  },
  {
   "cell_type": "code",
   "execution_count": 21,
   "id": "41e6ed4a",
   "metadata": {
    "execution": {
     "iopub.execute_input": "2022-07-10T17:30:50.053241Z",
     "iopub.status.busy": "2022-07-10T17:30:50.052827Z",
     "iopub.status.idle": "2022-07-10T17:30:50.064363Z",
     "shell.execute_reply": "2022-07-10T17:30:50.063389Z"
    },
    "papermill": {
     "duration": 0.029824,
     "end_time": "2022-07-10T17:30:50.066497",
     "exception": false,
     "start_time": "2022-07-10T17:30:50.036673",
     "status": "completed"
    },
    "tags": []
   },
   "outputs": [
    {
     "data": {
      "text/plain": [
       "age_group  Transported\n",
       "19-27      0              0.536379\n",
       "           1              0.463621\n",
       "27-38      0              0.529688\n",
       "           1              0.470312\n",
       "<19        1              0.613149\n",
       "           0              0.386851\n",
       ">38        0              0.514523\n",
       "           1              0.485477\n",
       "Name: Transported, dtype: float64"
      ]
     },
     "execution_count": 21,
     "metadata": {},
     "output_type": "execute_result"
    }
   ],
   "source": [
    "Titanic_data.groupby(['age_group'])['Transported'].value_counts(normalize=True)"
   ]
  },
  {
   "cell_type": "markdown",
   "id": "66cd8fb8",
   "metadata": {
    "papermill": {
     "duration": 0.014607,
     "end_time": "2022-07-10T17:30:50.095969",
     "exception": false,
     "start_time": "2022-07-10T17:30:50.081362",
     "status": "completed"
    },
    "tags": []
   },
   "source": [
    "61% of people who were less than 19 years old was transported."
   ]
  },
  {
   "cell_type": "code",
   "execution_count": 22,
   "id": "4e18467c",
   "metadata": {
    "execution": {
     "iopub.execute_input": "2022-07-10T17:30:50.127243Z",
     "iopub.status.busy": "2022-07-10T17:30:50.126827Z",
     "iopub.status.idle": "2022-07-10T17:30:50.139926Z",
     "shell.execute_reply": "2022-07-10T17:30:50.138953Z"
    },
    "papermill": {
     "duration": 0.031412,
     "end_time": "2022-07-10T17:30:50.142198",
     "exception": false,
     "start_time": "2022-07-10T17:30:50.110786",
     "status": "completed"
    },
    "tags": []
   },
   "outputs": [
    {
     "data": {
      "text/plain": [
       "people in Group  Transported\n",
       "01               0              0.524715\n",
       "                 1              0.475285\n",
       "02               1              0.558380\n",
       "                 0              0.441620\n",
       "03               1              0.597222\n",
       "                 0              0.402778\n",
       "04               1              0.640449\n",
       "                 0              0.359551\n",
       "05               1              0.565657\n",
       "                 0              0.434343\n",
       "06               1              0.550000\n",
       "                 0              0.450000\n",
       "07               1              0.586207\n",
       "                 0              0.413793\n",
       "08               0              0.500000\n",
       "                 1              0.500000\n",
       "Name: Transported, dtype: float64"
      ]
     },
     "execution_count": 22,
     "metadata": {},
     "output_type": "execute_result"
    }
   ],
   "source": [
    "Titanic_data.groupby(['people in Group'])['Transported'].value_counts(normalize=True)"
   ]
  },
  {
   "cell_type": "markdown",
   "id": "0cd92ff6",
   "metadata": {
    "papermill": {
     "duration": 0.015244,
     "end_time": "2022-07-10T17:30:50.172489",
     "exception": false,
     "start_time": "2022-07-10T17:30:50.157245",
     "status": "completed"
    },
    "tags": []
   },
   "source": [
    "People who were traveled with 4 people have chance 64 % to be transported."
   ]
  },
  {
   "cell_type": "code",
   "execution_count": 23,
   "id": "2cd7f7d5",
   "metadata": {
    "execution": {
     "iopub.execute_input": "2022-07-10T17:30:50.205322Z",
     "iopub.status.busy": "2022-07-10T17:30:50.204561Z",
     "iopub.status.idle": "2022-07-10T17:30:50.216224Z",
     "shell.execute_reply": "2022-07-10T17:30:50.215380Z"
    },
    "papermill": {
     "duration": 0.030278,
     "end_time": "2022-07-10T17:30:50.218382",
     "exception": false,
     "start_time": "2022-07-10T17:30:50.188104",
     "status": "completed"
    },
    "tags": []
   },
   "outputs": [
    {
     "data": {
      "text/plain": [
       "Deck  Transported\n",
       "A     0              0.512077\n",
       "      1              0.487923\n",
       "B     1              0.729299\n",
       "      0              0.270701\n",
       "C     1              0.679727\n",
       "      0              0.320273\n",
       "D     0              0.577540\n",
       "      1              0.422460\n",
       "E     0              0.641288\n",
       "      1              0.358712\n",
       "F     0              0.564591\n",
       "      1              0.435409\n",
       "G     1              0.521034\n",
       "      0              0.478966\n",
       "T     0              0.500000\n",
       "      1              0.500000\n",
       "Name: Transported, dtype: float64"
      ]
     },
     "execution_count": 23,
     "metadata": {},
     "output_type": "execute_result"
    }
   ],
   "source": [
    "Titanic_data.groupby(['Deck'])['Transported'].value_counts(normalize=True)"
   ]
  },
  {
   "cell_type": "code",
   "execution_count": 24,
   "id": "46692dcd",
   "metadata": {
    "execution": {
     "iopub.execute_input": "2022-07-10T17:30:50.251092Z",
     "iopub.status.busy": "2022-07-10T17:30:50.250366Z",
     "iopub.status.idle": "2022-07-10T17:30:50.257434Z",
     "shell.execute_reply": "2022-07-10T17:30:50.256420Z"
    },
    "papermill": {
     "duration": 0.026014,
     "end_time": "2022-07-10T17:30:50.259557",
     "exception": false,
     "start_time": "2022-07-10T17:30:50.233543",
     "status": "completed"
    },
    "tags": []
   },
   "outputs": [
    {
     "data": {
      "text/plain": [
       "Index(['PassengerId', 'HomePlanet', 'CryoSleep', 'Cabin', 'Destination', 'Age',\n",
       "       'VIP', 'RoomService', 'FoodCourt', 'ShoppingMall', 'Spa', 'VRDeck',\n",
       "       'Name', 'Transported', 'Group', 'people in Group', 'Deck', 'Num',\n",
       "       'Side', 'Rich', 'age_group'],\n",
       "      dtype='object')"
      ]
     },
     "execution_count": 24,
     "metadata": {},
     "output_type": "execute_result"
    }
   ],
   "source": [
    "Titanic_data.columns"
   ]
  },
  {
   "cell_type": "code",
   "execution_count": 25,
   "id": "ac66b9ba",
   "metadata": {
    "execution": {
     "iopub.execute_input": "2022-07-10T17:30:50.292253Z",
     "iopub.status.busy": "2022-07-10T17:30:50.291523Z",
     "iopub.status.idle": "2022-07-10T17:30:50.307872Z",
     "shell.execute_reply": "2022-07-10T17:30:50.306786Z"
    },
    "papermill": {
     "duration": 0.035542,
     "end_time": "2022-07-10T17:30:50.310234",
     "exception": false,
     "start_time": "2022-07-10T17:30:50.274692",
     "status": "completed"
    },
    "tags": []
   },
   "outputs": [
    {
     "data": {
      "text/html": [
       "<div>\n",
       "<style scoped>\n",
       "    .dataframe tbody tr th:only-of-type {\n",
       "        vertical-align: middle;\n",
       "    }\n",
       "\n",
       "    .dataframe tbody tr th {\n",
       "        vertical-align: top;\n",
       "    }\n",
       "\n",
       "    .dataframe thead th {\n",
       "        text-align: right;\n",
       "    }\n",
       "</style>\n",
       "<table border=\"1\" class=\"dataframe\">\n",
       "  <thead>\n",
       "    <tr style=\"text-align: right;\">\n",
       "      <th></th>\n",
       "      <th>age_group</th>\n",
       "      <th>Deck</th>\n",
       "      <th>people in Group</th>\n",
       "      <th>Rich</th>\n",
       "    </tr>\n",
       "  </thead>\n",
       "  <tbody>\n",
       "    <tr>\n",
       "      <th>0</th>\n",
       "      <td>&gt;38</td>\n",
       "      <td>B</td>\n",
       "      <td>01</td>\n",
       "      <td>0.0</td>\n",
       "    </tr>\n",
       "    <tr>\n",
       "      <th>1</th>\n",
       "      <td>19-27</td>\n",
       "      <td>F</td>\n",
       "      <td>01</td>\n",
       "      <td>736.0</td>\n",
       "    </tr>\n",
       "    <tr>\n",
       "      <th>2</th>\n",
       "      <td>&gt;38</td>\n",
       "      <td>A</td>\n",
       "      <td>01</td>\n",
       "      <td>10383.0</td>\n",
       "    </tr>\n",
       "    <tr>\n",
       "      <th>3</th>\n",
       "      <td>27-38</td>\n",
       "      <td>A</td>\n",
       "      <td>02</td>\n",
       "      <td>5176.0</td>\n",
       "    </tr>\n",
       "    <tr>\n",
       "      <th>4</th>\n",
       "      <td>&lt;19</td>\n",
       "      <td>F</td>\n",
       "      <td>01</td>\n",
       "      <td>1091.0</td>\n",
       "    </tr>\n",
       "  </tbody>\n",
       "</table>\n",
       "</div>"
      ],
      "text/plain": [
       "  age_group Deck people in Group     Rich\n",
       "0       >38    B              01      0.0\n",
       "1     19-27    F              01    736.0\n",
       "2       >38    A              01  10383.0\n",
       "3     27-38    A              02   5176.0\n",
       "4       <19    F              01   1091.0"
      ]
     },
     "execution_count": 25,
     "metadata": {},
     "output_type": "execute_result"
    }
   ],
   "source": [
    "Feature=Titanic_data[['age_group','Deck','people in Group','Rich']]\n",
    "Feature.head()"
   ]
  },
  {
   "cell_type": "code",
   "execution_count": 26,
   "id": "c68b4fd5",
   "metadata": {
    "execution": {
     "iopub.execute_input": "2022-07-10T17:30:50.343772Z",
     "iopub.status.busy": "2022-07-10T17:30:50.342956Z",
     "iopub.status.idle": "2022-07-10T17:30:50.369611Z",
     "shell.execute_reply": "2022-07-10T17:30:50.367839Z"
    },
    "papermill": {
     "duration": 0.047063,
     "end_time": "2022-07-10T17:30:50.372775",
     "exception": false,
     "start_time": "2022-07-10T17:30:50.325712",
     "status": "completed"
    },
    "tags": []
   },
   "outputs": [
    {
     "name": "stderr",
     "output_type": "stream",
     "text": [
      "/opt/conda/lib/python3.7/site-packages/pandas/core/generic.py:6619: SettingWithCopyWarning: \n",
      "A value is trying to be set on a copy of a slice from a DataFrame\n",
      "\n",
      "See the caveats in the documentation: https://pandas.pydata.org/pandas-docs/stable/user_guide/indexing.html#returning-a-view-versus-a-copy\n",
      "  return self._update_inplace(result)\n"
     ]
    },
    {
     "data": {
      "text/html": [
       "<div>\n",
       "<style scoped>\n",
       "    .dataframe tbody tr th:only-of-type {\n",
       "        vertical-align: middle;\n",
       "    }\n",
       "\n",
       "    .dataframe tbody tr th {\n",
       "        vertical-align: top;\n",
       "    }\n",
       "\n",
       "    .dataframe thead th {\n",
       "        text-align: right;\n",
       "    }\n",
       "</style>\n",
       "<table border=\"1\" class=\"dataframe\">\n",
       "  <thead>\n",
       "    <tr style=\"text-align: right;\">\n",
       "      <th></th>\n",
       "      <th>age_group</th>\n",
       "      <th>Deck</th>\n",
       "      <th>people in Group</th>\n",
       "      <th>Rich</th>\n",
       "    </tr>\n",
       "  </thead>\n",
       "  <tbody>\n",
       "    <tr>\n",
       "      <th>0</th>\n",
       "      <td>4</td>\n",
       "      <td>B</td>\n",
       "      <td>01</td>\n",
       "      <td>0.0</td>\n",
       "    </tr>\n",
       "    <tr>\n",
       "      <th>1</th>\n",
       "      <td>2</td>\n",
       "      <td>F</td>\n",
       "      <td>01</td>\n",
       "      <td>736.0</td>\n",
       "    </tr>\n",
       "    <tr>\n",
       "      <th>2</th>\n",
       "      <td>4</td>\n",
       "      <td>A</td>\n",
       "      <td>01</td>\n",
       "      <td>10383.0</td>\n",
       "    </tr>\n",
       "    <tr>\n",
       "      <th>3</th>\n",
       "      <td>3</td>\n",
       "      <td>A</td>\n",
       "      <td>02</td>\n",
       "      <td>5176.0</td>\n",
       "    </tr>\n",
       "    <tr>\n",
       "      <th>4</th>\n",
       "      <td>1</td>\n",
       "      <td>F</td>\n",
       "      <td>01</td>\n",
       "      <td>1091.0</td>\n",
       "    </tr>\n",
       "  </tbody>\n",
       "</table>\n",
       "</div>"
      ],
      "text/plain": [
       "   age_group Deck people in Group     Rich\n",
       "0          4    B              01      0.0\n",
       "1          2    F              01    736.0\n",
       "2          4    A              01  10383.0\n",
       "3          3    A              02   5176.0\n",
       "4          1    F              01   1091.0"
      ]
     },
     "execution_count": 26,
     "metadata": {},
     "output_type": "execute_result"
    }
   ],
   "source": [
    "Feature['age_group'].replace(to_replace=['<19','19-27','27-38','>38'], value=[1,2,3,4],inplace=True)\n",
    "Feature.head()"
   ]
  },
  {
   "cell_type": "code",
   "execution_count": 27,
   "id": "cd7ec45c",
   "metadata": {
    "execution": {
     "iopub.execute_input": "2022-07-10T17:30:50.406947Z",
     "iopub.status.busy": "2022-07-10T17:30:50.406042Z",
     "iopub.status.idle": "2022-07-10T17:30:50.427369Z",
     "shell.execute_reply": "2022-07-10T17:30:50.426523Z"
    },
    "papermill": {
     "duration": 0.041139,
     "end_time": "2022-07-10T17:30:50.430127",
     "exception": false,
     "start_time": "2022-07-10T17:30:50.388988",
     "status": "completed"
    },
    "tags": []
   },
   "outputs": [
    {
     "name": "stderr",
     "output_type": "stream",
     "text": [
      "/opt/conda/lib/python3.7/site-packages/pandas/core/generic.py:6619: SettingWithCopyWarning: \n",
      "A value is trying to be set on a copy of a slice from a DataFrame\n",
      "\n",
      "See the caveats in the documentation: https://pandas.pydata.org/pandas-docs/stable/user_guide/indexing.html#returning-a-view-versus-a-copy\n",
      "  return self._update_inplace(result)\n"
     ]
    },
    {
     "data": {
      "text/html": [
       "<div>\n",
       "<style scoped>\n",
       "    .dataframe tbody tr th:only-of-type {\n",
       "        vertical-align: middle;\n",
       "    }\n",
       "\n",
       "    .dataframe tbody tr th {\n",
       "        vertical-align: top;\n",
       "    }\n",
       "\n",
       "    .dataframe thead th {\n",
       "        text-align: right;\n",
       "    }\n",
       "</style>\n",
       "<table border=\"1\" class=\"dataframe\">\n",
       "  <thead>\n",
       "    <tr style=\"text-align: right;\">\n",
       "      <th></th>\n",
       "      <th>age_group</th>\n",
       "      <th>Deck</th>\n",
       "      <th>people in Group</th>\n",
       "      <th>Rich</th>\n",
       "    </tr>\n",
       "  </thead>\n",
       "  <tbody>\n",
       "    <tr>\n",
       "      <th>0</th>\n",
       "      <td>4</td>\n",
       "      <td>2</td>\n",
       "      <td>01</td>\n",
       "      <td>0.0</td>\n",
       "    </tr>\n",
       "    <tr>\n",
       "      <th>1</th>\n",
       "      <td>2</td>\n",
       "      <td>6</td>\n",
       "      <td>01</td>\n",
       "      <td>736.0</td>\n",
       "    </tr>\n",
       "    <tr>\n",
       "      <th>2</th>\n",
       "      <td>4</td>\n",
       "      <td>1</td>\n",
       "      <td>01</td>\n",
       "      <td>10383.0</td>\n",
       "    </tr>\n",
       "    <tr>\n",
       "      <th>3</th>\n",
       "      <td>3</td>\n",
       "      <td>1</td>\n",
       "      <td>02</td>\n",
       "      <td>5176.0</td>\n",
       "    </tr>\n",
       "    <tr>\n",
       "      <th>4</th>\n",
       "      <td>1</td>\n",
       "      <td>6</td>\n",
       "      <td>01</td>\n",
       "      <td>1091.0</td>\n",
       "    </tr>\n",
       "  </tbody>\n",
       "</table>\n",
       "</div>"
      ],
      "text/plain": [
       "   age_group  Deck people in Group     Rich\n",
       "0          4     2              01      0.0\n",
       "1          2     6              01    736.0\n",
       "2          4     1              01  10383.0\n",
       "3          3     1              02   5176.0\n",
       "4          1     6              01   1091.0"
      ]
     },
     "execution_count": 27,
     "metadata": {},
     "output_type": "execute_result"
    }
   ],
   "source": [
    "Feature['Deck'].replace(to_replace=['A','B','C','D','E','F','G','T'],value=[1,2,3,4,5,6,7,8],inplace= True)\n",
    "Feature.head()"
   ]
  },
  {
   "cell_type": "code",
   "execution_count": 28,
   "id": "e765a7e6",
   "metadata": {
    "execution": {
     "iopub.execute_input": "2022-07-10T17:30:50.464099Z",
     "iopub.status.busy": "2022-07-10T17:30:50.463702Z",
     "iopub.status.idle": "2022-07-10T17:30:50.475419Z",
     "shell.execute_reply": "2022-07-10T17:30:50.474284Z"
    },
    "papermill": {
     "duration": 0.03144,
     "end_time": "2022-07-10T17:30:50.477725",
     "exception": false,
     "start_time": "2022-07-10T17:30:50.446285",
     "status": "completed"
    },
    "tags": []
   },
   "outputs": [
    {
     "data": {
      "text/html": [
       "<div>\n",
       "<style scoped>\n",
       "    .dataframe tbody tr th:only-of-type {\n",
       "        vertical-align: middle;\n",
       "    }\n",
       "\n",
       "    .dataframe tbody tr th {\n",
       "        vertical-align: top;\n",
       "    }\n",
       "\n",
       "    .dataframe thead th {\n",
       "        text-align: right;\n",
       "    }\n",
       "</style>\n",
       "<table border=\"1\" class=\"dataframe\">\n",
       "  <thead>\n",
       "    <tr style=\"text-align: right;\">\n",
       "      <th></th>\n",
       "      <th>age_group</th>\n",
       "      <th>Deck</th>\n",
       "      <th>people in Group</th>\n",
       "      <th>Rich</th>\n",
       "    </tr>\n",
       "  </thead>\n",
       "  <tbody>\n",
       "    <tr>\n",
       "      <th>0</th>\n",
       "      <td>4</td>\n",
       "      <td>2</td>\n",
       "      <td>01</td>\n",
       "      <td>0.0</td>\n",
       "    </tr>\n",
       "    <tr>\n",
       "      <th>1</th>\n",
       "      <td>2</td>\n",
       "      <td>6</td>\n",
       "      <td>01</td>\n",
       "      <td>736.0</td>\n",
       "    </tr>\n",
       "    <tr>\n",
       "      <th>2</th>\n",
       "      <td>4</td>\n",
       "      <td>1</td>\n",
       "      <td>01</td>\n",
       "      <td>10383.0</td>\n",
       "    </tr>\n",
       "    <tr>\n",
       "      <th>3</th>\n",
       "      <td>3</td>\n",
       "      <td>1</td>\n",
       "      <td>02</td>\n",
       "      <td>5176.0</td>\n",
       "    </tr>\n",
       "    <tr>\n",
       "      <th>4</th>\n",
       "      <td>1</td>\n",
       "      <td>6</td>\n",
       "      <td>01</td>\n",
       "      <td>1091.0</td>\n",
       "    </tr>\n",
       "  </tbody>\n",
       "</table>\n",
       "</div>"
      ],
      "text/plain": [
       "   age_group  Deck people in Group     Rich\n",
       "0          4     2              01      0.0\n",
       "1          2     6              01    736.0\n",
       "2          4     1              01  10383.0\n",
       "3          3     1              02   5176.0\n",
       "4          1     6              01   1091.0"
      ]
     },
     "execution_count": 28,
     "metadata": {},
     "output_type": "execute_result"
    }
   ],
   "source": [
    "x= Feature\n",
    "x[0:5]"
   ]
  },
  {
   "cell_type": "code",
   "execution_count": 29,
   "id": "db760002",
   "metadata": {
    "execution": {
     "iopub.execute_input": "2022-07-10T17:30:50.512310Z",
     "iopub.status.busy": "2022-07-10T17:30:50.511501Z",
     "iopub.status.idle": "2022-07-10T17:30:50.518894Z",
     "shell.execute_reply": "2022-07-10T17:30:50.518055Z"
    },
    "papermill": {
     "duration": 0.027143,
     "end_time": "2022-07-10T17:30:50.521095",
     "exception": false,
     "start_time": "2022-07-10T17:30:50.493952",
     "status": "completed"
    },
    "tags": []
   },
   "outputs": [
    {
     "data": {
      "text/plain": [
       "array([0, 1, 0, 0, 1])"
      ]
     },
     "execution_count": 29,
     "metadata": {},
     "output_type": "execute_result"
    }
   ],
   "source": [
    "y=Titanic_data['Transported'].values\n",
    "y[0:5]"
   ]
  },
  {
   "cell_type": "code",
   "execution_count": 30,
   "id": "47b79410",
   "metadata": {
    "execution": {
     "iopub.execute_input": "2022-07-10T17:30:50.556397Z",
     "iopub.status.busy": "2022-07-10T17:30:50.555585Z",
     "iopub.status.idle": "2022-07-10T17:30:50.577679Z",
     "shell.execute_reply": "2022-07-10T17:30:50.576501Z"
    },
    "papermill": {
     "duration": 0.042365,
     "end_time": "2022-07-10T17:30:50.580115",
     "exception": false,
     "start_time": "2022-07-10T17:30:50.537750",
     "status": "completed"
    },
    "tags": []
   },
   "outputs": [
    {
     "data": {
      "text/plain": [
       "array([[ 1.32645405, -1.82903018, -0.49016093, -0.52343981],\n",
       "       [-0.50250764,  0.4020793 , -0.49016093, -0.26613332],\n",
       "       [ 1.32645405, -2.38680755, -0.49016093,  3.10646959],\n",
       "       [ 0.41197321, -2.38680755,  0.45828755,  1.28609607],\n",
       "       [-1.41698849,  0.4020793 , -0.49016093, -0.14202488]])"
      ]
     },
     "execution_count": 30,
     "metadata": {},
     "output_type": "execute_result"
    }
   ],
   "source": [
    "x= preprocessing.StandardScaler().fit(x).transform(x)\n",
    "x[0:5]"
   ]
  },
  {
   "cell_type": "markdown",
   "id": "2c3f4c98",
   "metadata": {
    "papermill": {
     "duration": 0.017195,
     "end_time": "2022-07-10T17:30:50.613856",
     "exception": false,
     "start_time": "2022-07-10T17:30:50.596661",
     "status": "completed"
    },
    "tags": []
   },
   "source": [
    "# K Nearest Neighbor(KNN)"
   ]
  },
  {
   "cell_type": "code",
   "execution_count": 31,
   "id": "e8d3dfe0",
   "metadata": {
    "execution": {
     "iopub.execute_input": "2022-07-10T17:30:50.652089Z",
     "iopub.status.busy": "2022-07-10T17:30:50.651716Z",
     "iopub.status.idle": "2022-07-10T17:30:50.714818Z",
     "shell.execute_reply": "2022-07-10T17:30:50.714053Z"
    },
    "papermill": {
     "duration": 0.084267,
     "end_time": "2022-07-10T17:30:50.717681",
     "exception": false,
     "start_time": "2022-07-10T17:30:50.633414",
     "status": "completed"
    },
    "tags": []
   },
   "outputs": [
    {
     "name": "stdout",
     "output_type": "stream",
     "text": [
      "Train set: (5284, 4) (5284,)\n",
      "Test set: (1322, 4) (1322,)\n"
     ]
    }
   ],
   "source": [
    "from sklearn.model_selection import train_test_split\n",
    "X_train,X_test,y_train,y_test= train_test_split(x,y,test_size=0.2,random_state=4)\n",
    "print('Train set:',X_train.shape,y_train.shape)\n",
    "print('Test set:',X_test.shape,y_test.shape)"
   ]
  },
  {
   "cell_type": "code",
   "execution_count": 32,
   "id": "28dcfdd0",
   "metadata": {
    "execution": {
     "iopub.execute_input": "2022-07-10T17:30:50.755216Z",
     "iopub.status.busy": "2022-07-10T17:30:50.754437Z",
     "iopub.status.idle": "2022-07-10T17:30:50.885235Z",
     "shell.execute_reply": "2022-07-10T17:30:50.884343Z"
    },
    "papermill": {
     "duration": 0.151265,
     "end_time": "2022-07-10T17:30:50.887620",
     "exception": false,
     "start_time": "2022-07-10T17:30:50.736355",
     "status": "completed"
    },
    "tags": []
   },
   "outputs": [],
   "source": [
    "from sklearn.neighbors import KNeighborsClassifier\n",
    "from sklearn import metrics"
   ]
  },
  {
   "cell_type": "code",
   "execution_count": 33,
   "id": "9b602c45",
   "metadata": {
    "execution": {
     "iopub.execute_input": "2022-07-10T17:30:50.923879Z",
     "iopub.status.busy": "2022-07-10T17:30:50.923197Z",
     "iopub.status.idle": "2022-07-10T17:30:51.678872Z",
     "shell.execute_reply": "2022-07-10T17:30:51.677731Z"
    },
    "papermill": {
     "duration": 0.777179,
     "end_time": "2022-07-10T17:30:51.681585",
     "exception": false,
     "start_time": "2022-07-10T17:30:50.904406",
     "status": "completed"
    },
    "tags": []
   },
   "outputs": [
    {
     "data": {
      "text/plain": [
       "array([0.65431165, 0.67776097, 0.7065053 , 0.70499244, 0.72012103,\n",
       "       0.70877458, 0.70196672, 0.70877458, 0.70423601, 0.7118003 ,\n",
       "       0.70953101, 0.71860817, 0.70877458, 0.71558245])"
      ]
     },
     "execution_count": 33,
     "metadata": {},
     "output_type": "execute_result"
    }
   ],
   "source": [
    "Ks=15\n",
    "mean_acc=np.zeros((Ks-1))\n",
    "std_acc=np.zeros((Ks-1))\n",
    "ConfusionMx=[];\n",
    "for n in range(1,Ks):\n",
    "    KNN_model = KNeighborsClassifier(n_neighbors=n).fit(X_train,y_train)\n",
    "    yhat =KNN_model.predict(X_test)\n",
    "    mean_acc[n-1]=np.mean(yhat==y_test);\n",
    "    std_acc[n-1]=np.std(yhat==y_test)/np.sqrt(yhat.shape[0])\n",
    "mean_acc"
   ]
  },
  {
   "cell_type": "code",
   "execution_count": 34,
   "id": "addf5c48",
   "metadata": {
    "execution": {
     "iopub.execute_input": "2022-07-10T17:30:51.717394Z",
     "iopub.status.busy": "2022-07-10T17:30:51.716788Z",
     "iopub.status.idle": "2022-07-10T17:30:51.722107Z",
     "shell.execute_reply": "2022-07-10T17:30:51.721261Z"
    },
    "papermill": {
     "duration": 0.026393,
     "end_time": "2022-07-10T17:30:51.724836",
     "exception": false,
     "start_time": "2022-07-10T17:30:51.698443",
     "status": "completed"
    },
    "tags": []
   },
   "outputs": [
    {
     "name": "stdout",
     "output_type": "stream",
     "text": [
      "The best accuracy of KNN: 0.7201210287443268 with k = 5\n"
     ]
    }
   ],
   "source": [
    "print(\"The best accuracy of KNN:\",mean_acc.max(),\"with k =\",mean_acc.argmax()+1)"
   ]
  },
  {
   "cell_type": "markdown",
   "id": "5c094f7f",
   "metadata": {
    "papermill": {
     "duration": 0.016983,
     "end_time": "2022-07-10T17:30:51.760194",
     "exception": false,
     "start_time": "2022-07-10T17:30:51.743211",
     "status": "completed"
    },
    "tags": []
   },
   "source": [
    "# Logistic Regression"
   ]
  },
  {
   "cell_type": "code",
   "execution_count": 35,
   "id": "44c0e23a",
   "metadata": {
    "execution": {
     "iopub.execute_input": "2022-07-10T17:30:51.795990Z",
     "iopub.status.busy": "2022-07-10T17:30:51.795371Z",
     "iopub.status.idle": "2022-07-10T17:30:51.809328Z",
     "shell.execute_reply": "2022-07-10T17:30:51.808464Z"
    },
    "papermill": {
     "duration": 0.034559,
     "end_time": "2022-07-10T17:30:51.811377",
     "exception": false,
     "start_time": "2022-07-10T17:30:51.776818",
     "status": "completed"
    },
    "tags": []
   },
   "outputs": [
    {
     "data": {
      "text/plain": [
       "LogisticRegression(C=0.1, solver='liblinear')"
      ]
     },
     "execution_count": 35,
     "metadata": {},
     "output_type": "execute_result"
    }
   ],
   "source": [
    "from sklearn.linear_model import LogisticRegression\n",
    "LR= LogisticRegression(C=0.1,solver='liblinear').fit(X_train,y_train)\n",
    "LR"
   ]
  },
  {
   "cell_type": "code",
   "execution_count": 36,
   "id": "9c896a45",
   "metadata": {
    "execution": {
     "iopub.execute_input": "2022-07-10T17:30:51.847740Z",
     "iopub.status.busy": "2022-07-10T17:30:51.846475Z",
     "iopub.status.idle": "2022-07-10T17:30:51.855634Z",
     "shell.execute_reply": "2022-07-10T17:30:51.854463Z"
    },
    "papermill": {
     "duration": 0.029528,
     "end_time": "2022-07-10T17:30:51.857834",
     "exception": false,
     "start_time": "2022-07-10T17:30:51.828306",
     "status": "completed"
    },
    "tags": []
   },
   "outputs": [
    {
     "data": {
      "text/plain": [
       "array([0, 1, 1, ..., 0, 1, 0])"
      ]
     },
     "execution_count": 36,
     "metadata": {},
     "output_type": "execute_result"
    }
   ],
   "source": [
    "yhat2 = LR.predict(X_test)\n",
    "yhat2"
   ]
  },
  {
   "cell_type": "code",
   "execution_count": 37,
   "id": "b62a94d3",
   "metadata": {
    "execution": {
     "iopub.execute_input": "2022-07-10T17:30:51.893417Z",
     "iopub.status.busy": "2022-07-10T17:30:51.893051Z",
     "iopub.status.idle": "2022-07-10T17:30:51.899449Z",
     "shell.execute_reply": "2022-07-10T17:30:51.898067Z"
    },
    "papermill": {
     "duration": 0.027557,
     "end_time": "2022-07-10T17:30:51.902456",
     "exception": false,
     "start_time": "2022-07-10T17:30:51.874899",
     "status": "completed"
    },
    "tags": []
   },
   "outputs": [
    {
     "name": "stdout",
     "output_type": "stream",
     "text": [
      "Logistic Regression's accuracy:0.63\n"
     ]
    }
   ],
   "source": [
    "print(\"Logistic Regression's accuracy:%.2f\"% metrics.accuracy_score(y_test,yhat2))"
   ]
  }
 ],
 "metadata": {
  "kernelspec": {
   "display_name": "Python 3",
   "language": "python",
   "name": "python3"
  },
  "language_info": {
   "codemirror_mode": {
    "name": "ipython",
    "version": 3
   },
   "file_extension": ".py",
   "mimetype": "text/x-python",
   "name": "python",
   "nbconvert_exporter": "python",
   "pygments_lexer": "ipython3",
   "version": "3.7.12"
  },
  "papermill": {
   "default_parameters": {},
   "duration": 14.493704,
   "end_time": "2022-07-10T17:30:52.640539",
   "environment_variables": {},
   "exception": null,
   "input_path": "__notebook__.ipynb",
   "output_path": "__notebook__.ipynb",
   "parameters": {},
   "start_time": "2022-07-10T17:30:38.146835",
   "version": "2.3.4"
  }
 },
 "nbformat": 4,
 "nbformat_minor": 5
}
